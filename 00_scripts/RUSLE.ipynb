{
 "cells": [
  {
   "cell_type": "markdown",
   "metadata": {},
   "source": [
    "# RUSLE\n",
    "\n",
    "Adaptado del codigo de [Lucas Rivero Iribarne](https://www.lucasriveroiribarne.com)."
   ]
  },
  {
   "cell_type": "code",
   "execution_count": 69,
   "metadata": {},
   "outputs": [
    {
     "data": {
      "text/html": [
       "\n",
       "            <style>\n",
       "                .geemap-dark {\n",
       "                    --jp-widgets-color: white;\n",
       "                    --jp-widgets-label-color: white;\n",
       "                    --jp-ui-font-color1: white;\n",
       "                    --jp-layout-color2: #454545;\n",
       "                    background-color: #383838;\n",
       "                }\n",
       "                    \n",
       "                .geemap-dark .jupyter-button {\n",
       "                    --jp-layout-color3: #383838;\n",
       "                }\n",
       "                \n",
       "                .geemap-colab {\n",
       "                    background-color: var(--colab-primary-surface-color, white);\n",
       "                }\n",
       "                    \n",
       "                .geemap-colab .jupyter-button {\n",
       "                    --jp-layout-color3: var(--colab-primary-surface-color, white);\n",
       "                }\n",
       "            </style>\n",
       "            "
      ],
      "text/plain": [
       "<IPython.core.display.HTML object>"
      ]
     },
     "metadata": {},
     "output_type": "display_data"
    },
    {
     "name": "stdout",
     "output_type": "stream",
     "text": [
      "Requirement already satisfied: pip in /Users/nico/miniconda3/envs/RUSLE/lib/python3.12/site-packages (23.3.2)\n",
      "Requirement already satisfied: earthengine-API in /Users/nico/miniconda3/envs/RUSLE/lib/python3.12/site-packages (0.1.384)\n",
      "Requirement already satisfied: google-cloud-storage in /Users/nico/miniconda3/envs/RUSLE/lib/python3.12/site-packages (from earthengine-API) (2.14.0)\n",
      "Requirement already satisfied: google-api-python-client>=1.12.1 in /Users/nico/miniconda3/envs/RUSLE/lib/python3.12/site-packages (from earthengine-API) (2.112.0)\n",
      "Requirement already satisfied: google-auth>=1.4.1 in /Users/nico/miniconda3/envs/RUSLE/lib/python3.12/site-packages (from earthengine-API) (2.26.1)\n",
      "Requirement already satisfied: google-auth-httplib2>=0.0.3 in /Users/nico/miniconda3/envs/RUSLE/lib/python3.12/site-packages (from earthengine-API) (0.2.0)\n",
      "Requirement already satisfied: httplib2<1dev,>=0.9.2 in /Users/nico/miniconda3/envs/RUSLE/lib/python3.12/site-packages (from earthengine-API) (0.22.0)\n",
      "Requirement already satisfied: requests in /Users/nico/miniconda3/envs/RUSLE/lib/python3.12/site-packages (from earthengine-API) (2.31.0)\n",
      "Requirement already satisfied: google-api-core!=2.0.*,!=2.1.*,!=2.2.*,!=2.3.0,<3.0.0.dev0,>=1.31.5 in /Users/nico/miniconda3/envs/RUSLE/lib/python3.12/site-packages (from google-api-python-client>=1.12.1->earthengine-API) (2.15.0)\n",
      "Requirement already satisfied: uritemplate<5,>=3.0.1 in /Users/nico/miniconda3/envs/RUSLE/lib/python3.12/site-packages (from google-api-python-client>=1.12.1->earthengine-API) (4.1.1)\n",
      "Requirement already satisfied: cachetools<6.0,>=2.0.0 in /Users/nico/miniconda3/envs/RUSLE/lib/python3.12/site-packages (from google-auth>=1.4.1->earthengine-API) (5.3.2)\n",
      "Requirement already satisfied: pyasn1-modules>=0.2.1 in /Users/nico/miniconda3/envs/RUSLE/lib/python3.12/site-packages (from google-auth>=1.4.1->earthengine-API) (0.3.0)\n",
      "Requirement already satisfied: rsa<5,>=3.1.4 in /Users/nico/miniconda3/envs/RUSLE/lib/python3.12/site-packages (from google-auth>=1.4.1->earthengine-API) (4.9)\n",
      "Requirement already satisfied: pyparsing!=3.0.0,!=3.0.1,!=3.0.2,!=3.0.3,<4,>=2.4.2 in /Users/nico/miniconda3/envs/RUSLE/lib/python3.12/site-packages (from httplib2<1dev,>=0.9.2->earthengine-API) (3.1.1)\n",
      "Requirement already satisfied: google-cloud-core<3.0dev,>=2.3.0 in /Users/nico/miniconda3/envs/RUSLE/lib/python3.12/site-packages (from google-cloud-storage->earthengine-API) (2.4.1)\n",
      "Requirement already satisfied: google-resumable-media>=2.6.0 in /Users/nico/miniconda3/envs/RUSLE/lib/python3.12/site-packages (from google-cloud-storage->earthengine-API) (2.7.0)\n",
      "Requirement already satisfied: google-crc32c<2.0dev,>=1.0 in /Users/nico/miniconda3/envs/RUSLE/lib/python3.12/site-packages (from google-cloud-storage->earthengine-API) (1.5.0)\n",
      "Requirement already satisfied: charset-normalizer<4,>=2 in /Users/nico/miniconda3/envs/RUSLE/lib/python3.12/site-packages (from requests->earthengine-API) (3.3.2)\n",
      "Requirement already satisfied: idna<4,>=2.5 in /Users/nico/miniconda3/envs/RUSLE/lib/python3.12/site-packages (from requests->earthengine-API) (3.6)\n",
      "Requirement already satisfied: urllib3<3,>=1.21.1 in /Users/nico/miniconda3/envs/RUSLE/lib/python3.12/site-packages (from requests->earthengine-API) (2.1.0)\n",
      "Requirement already satisfied: certifi>=2017.4.17 in /Users/nico/miniconda3/envs/RUSLE/lib/python3.12/site-packages (from requests->earthengine-API) (2023.11.17)\n",
      "Requirement already satisfied: googleapis-common-protos<2.0.dev0,>=1.56.2 in /Users/nico/miniconda3/envs/RUSLE/lib/python3.12/site-packages (from google-api-core!=2.0.*,!=2.1.*,!=2.2.*,!=2.3.0,<3.0.0.dev0,>=1.31.5->google-api-python-client>=1.12.1->earthengine-API) (1.62.0)\n",
      "Requirement already satisfied: protobuf!=3.20.0,!=3.20.1,!=4.21.0,!=4.21.1,!=4.21.2,!=4.21.3,!=4.21.4,!=4.21.5,<5.0.0.dev0,>=3.19.5 in /Users/nico/miniconda3/envs/RUSLE/lib/python3.12/site-packages (from google-api-core!=2.0.*,!=2.1.*,!=2.2.*,!=2.3.0,<3.0.0.dev0,>=1.31.5->google-api-python-client>=1.12.1->earthengine-API) (4.25.1)\n",
      "Requirement already satisfied: pyasn1<0.6.0,>=0.4.6 in /Users/nico/miniconda3/envs/RUSLE/lib/python3.12/site-packages (from pyasn1-modules>=0.2.1->google-auth>=1.4.1->earthengine-API) (0.5.1)\n",
      "Requirement already satisfied: oauth2client in /Users/nico/miniconda3/envs/RUSLE/lib/python3.12/site-packages (4.1.3)\n",
      "Requirement already satisfied: httplib2>=0.9.1 in /Users/nico/miniconda3/envs/RUSLE/lib/python3.12/site-packages (from oauth2client) (0.22.0)\n",
      "Requirement already satisfied: pyasn1>=0.1.7 in /Users/nico/miniconda3/envs/RUSLE/lib/python3.12/site-packages (from oauth2client) (0.5.1)\n",
      "Requirement already satisfied: pyasn1-modules>=0.0.5 in /Users/nico/miniconda3/envs/RUSLE/lib/python3.12/site-packages (from oauth2client) (0.3.0)\n",
      "Requirement already satisfied: rsa>=3.1.4 in /Users/nico/miniconda3/envs/RUSLE/lib/python3.12/site-packages (from oauth2client) (4.9)\n",
      "Requirement already satisfied: six>=1.6.1 in /Users/nico/miniconda3/envs/RUSLE/lib/python3.12/site-packages (from oauth2client) (1.16.0)\n",
      "Requirement already satisfied: pyparsing!=3.0.0,!=3.0.1,!=3.0.2,!=3.0.3,<4,>=2.4.2 in /Users/nico/miniconda3/envs/RUSLE/lib/python3.12/site-packages (from httplib2>=0.9.1->oauth2client) (3.1.1)\n",
      "Requirement already satisfied: gcloud in /Users/nico/miniconda3/envs/RUSLE/lib/python3.12/site-packages (0.18.3)\n",
      "Requirement already satisfied: httplib2>=0.9.1 in /Users/nico/miniconda3/envs/RUSLE/lib/python3.12/site-packages (from gcloud) (0.22.0)\n",
      "Requirement already satisfied: googleapis-common-protos in /Users/nico/miniconda3/envs/RUSLE/lib/python3.12/site-packages (from gcloud) (1.62.0)\n",
      "Requirement already satisfied: oauth2client>=2.0.1 in /Users/nico/miniconda3/envs/RUSLE/lib/python3.12/site-packages (from gcloud) (4.1.3)\n",
      "Requirement already satisfied: protobuf!=3.0.0.b2.post1,>=3.0.0b2 in /Users/nico/miniconda3/envs/RUSLE/lib/python3.12/site-packages (from gcloud) (4.25.1)\n",
      "Requirement already satisfied: six in /Users/nico/miniconda3/envs/RUSLE/lib/python3.12/site-packages (from gcloud) (1.16.0)\n",
      "Requirement already satisfied: pyparsing!=3.0.0,!=3.0.1,!=3.0.2,!=3.0.3,<4,>=2.4.2 in /Users/nico/miniconda3/envs/RUSLE/lib/python3.12/site-packages (from httplib2>=0.9.1->gcloud) (3.1.1)\n",
      "Requirement already satisfied: pyasn1>=0.1.7 in /Users/nico/miniconda3/envs/RUSLE/lib/python3.12/site-packages (from oauth2client>=2.0.1->gcloud) (0.5.1)\n",
      "Requirement already satisfied: pyasn1-modules>=0.0.5 in /Users/nico/miniconda3/envs/RUSLE/lib/python3.12/site-packages (from oauth2client>=2.0.1->gcloud) (0.3.0)\n",
      "Requirement already satisfied: rsa>=3.1.4 in /Users/nico/miniconda3/envs/RUSLE/lib/python3.12/site-packages (from oauth2client>=2.0.1->gcloud) (4.9)\n",
      "Requirement already satisfied: geemap in /Users/nico/miniconda3/envs/RUSLE/lib/python3.12/site-packages (0.30.0)\n",
      "Requirement already satisfied: bqplot in /Users/nico/miniconda3/envs/RUSLE/lib/python3.12/site-packages (from geemap) (0.12.42)\n",
      "Requirement already satisfied: colour in /Users/nico/miniconda3/envs/RUSLE/lib/python3.12/site-packages (from geemap) (0.1.5)\n",
      "Requirement already satisfied: earthengine-api>=0.1.347 in /Users/nico/miniconda3/envs/RUSLE/lib/python3.12/site-packages (from geemap) (0.1.384)\n",
      "Requirement already satisfied: eerepr>=0.0.4 in /Users/nico/miniconda3/envs/RUSLE/lib/python3.12/site-packages (from geemap) (0.0.4)\n",
      "Requirement already satisfied: folium>=0.13.0 in /Users/nico/miniconda3/envs/RUSLE/lib/python3.12/site-packages (from geemap) (0.15.1)\n",
      "Requirement already satisfied: geocoder in /Users/nico/miniconda3/envs/RUSLE/lib/python3.12/site-packages (from geemap) (1.38.1)\n",
      "Requirement already satisfied: ipyevents in /Users/nico/miniconda3/envs/RUSLE/lib/python3.12/site-packages (from geemap) (2.0.2)\n",
      "Requirement already satisfied: ipyfilechooser>=0.6.0 in /Users/nico/miniconda3/envs/RUSLE/lib/python3.12/site-packages (from geemap) (0.6.0)\n",
      "Requirement already satisfied: ipyleaflet>=0.17.0 in /Users/nico/miniconda3/envs/RUSLE/lib/python3.12/site-packages (from geemap) (0.18.1)\n",
      "Requirement already satisfied: ipytree in /Users/nico/miniconda3/envs/RUSLE/lib/python3.12/site-packages (from geemap) (0.2.2)\n",
      "Requirement already satisfied: matplotlib in /Users/nico/miniconda3/envs/RUSLE/lib/python3.12/site-packages (from geemap) (3.8.2)\n",
      "Requirement already satisfied: numpy in /Users/nico/miniconda3/envs/RUSLE/lib/python3.12/site-packages (from geemap) (1.26.3)\n",
      "Requirement already satisfied: pandas in /Users/nico/miniconda3/envs/RUSLE/lib/python3.12/site-packages (from geemap) (2.1.4)\n",
      "Requirement already satisfied: plotly in /Users/nico/miniconda3/envs/RUSLE/lib/python3.12/site-packages (from geemap) (5.18.0)\n",
      "Requirement already satisfied: pyperclip in /Users/nico/miniconda3/envs/RUSLE/lib/python3.12/site-packages (from geemap) (1.8.2)\n",
      "Requirement already satisfied: pyshp>=2.1.3 in /Users/nico/miniconda3/envs/RUSLE/lib/python3.12/site-packages (from geemap) (2.3.1)\n",
      "Requirement already satisfied: python-box in /Users/nico/miniconda3/envs/RUSLE/lib/python3.12/site-packages (from geemap) (7.1.1)\n",
      "Requirement already satisfied: scooby in /Users/nico/miniconda3/envs/RUSLE/lib/python3.12/site-packages (from geemap) (0.9.2)\n",
      "Requirement already satisfied: google-cloud-storage in /Users/nico/miniconda3/envs/RUSLE/lib/python3.12/site-packages (from earthengine-api>=0.1.347->geemap) (2.14.0)\n",
      "Requirement already satisfied: google-api-python-client>=1.12.1 in /Users/nico/miniconda3/envs/RUSLE/lib/python3.12/site-packages (from earthengine-api>=0.1.347->geemap) (2.112.0)\n",
      "Requirement already satisfied: google-auth>=1.4.1 in /Users/nico/miniconda3/envs/RUSLE/lib/python3.12/site-packages (from earthengine-api>=0.1.347->geemap) (2.26.1)\n",
      "Requirement already satisfied: google-auth-httplib2>=0.0.3 in /Users/nico/miniconda3/envs/RUSLE/lib/python3.12/site-packages (from earthengine-api>=0.1.347->geemap) (0.2.0)\n",
      "Requirement already satisfied: httplib2<1dev,>=0.9.2 in /Users/nico/miniconda3/envs/RUSLE/lib/python3.12/site-packages (from earthengine-api>=0.1.347->geemap) (0.22.0)\n",
      "Requirement already satisfied: requests in /Users/nico/miniconda3/envs/RUSLE/lib/python3.12/site-packages (from earthengine-api>=0.1.347->geemap) (2.31.0)\n",
      "Requirement already satisfied: branca>=0.6.0 in /Users/nico/miniconda3/envs/RUSLE/lib/python3.12/site-packages (from folium>=0.13.0->geemap) (0.7.0)\n",
      "Requirement already satisfied: jinja2>=2.9 in /Users/nico/miniconda3/envs/RUSLE/lib/python3.12/site-packages (from folium>=0.13.0->geemap) (3.1.2)\n",
      "Requirement already satisfied: xyzservices in /Users/nico/miniconda3/envs/RUSLE/lib/python3.12/site-packages (from folium>=0.13.0->geemap) (2023.10.1)\n",
      "Requirement already satisfied: ipywidgets in /Users/nico/miniconda3/envs/RUSLE/lib/python3.12/site-packages (from ipyfilechooser>=0.6.0->geemap) (8.1.1)\n",
      "Requirement already satisfied: traittypes<3,>=0.2.1 in /Users/nico/miniconda3/envs/RUSLE/lib/python3.12/site-packages (from ipyleaflet>=0.17.0->geemap) (0.2.1)\n",
      "Requirement already satisfied: traitlets>=4.3.0 in /Users/nico/miniconda3/envs/RUSLE/lib/python3.12/site-packages (from bqplot->geemap) (5.14.1)\n",
      "Requirement already satisfied: python-dateutil>=2.8.2 in /Users/nico/miniconda3/envs/RUSLE/lib/python3.12/site-packages (from pandas->geemap) (2.8.2)\n",
      "Requirement already satisfied: pytz>=2020.1 in /Users/nico/miniconda3/envs/RUSLE/lib/python3.12/site-packages (from pandas->geemap) (2023.3.post1)\n",
      "Requirement already satisfied: tzdata>=2022.1 in /Users/nico/miniconda3/envs/RUSLE/lib/python3.12/site-packages (from pandas->geemap) (2023.4)\n",
      "Requirement already satisfied: click in /Users/nico/miniconda3/envs/RUSLE/lib/python3.12/site-packages (from geocoder->geemap) (8.1.7)\n",
      "Requirement already satisfied: future in /Users/nico/miniconda3/envs/RUSLE/lib/python3.12/site-packages (from geocoder->geemap) (0.18.3)\n",
      "Requirement already satisfied: ratelim in /Users/nico/miniconda3/envs/RUSLE/lib/python3.12/site-packages (from geocoder->geemap) (0.1.6)\n",
      "Requirement already satisfied: six in /Users/nico/miniconda3/envs/RUSLE/lib/python3.12/site-packages (from geocoder->geemap) (1.16.0)\n",
      "Requirement already satisfied: contourpy>=1.0.1 in /Users/nico/miniconda3/envs/RUSLE/lib/python3.12/site-packages (from matplotlib->geemap) (1.2.0)\n",
      "Requirement already satisfied: cycler>=0.10 in /Users/nico/miniconda3/envs/RUSLE/lib/python3.12/site-packages (from matplotlib->geemap) (0.12.1)\n",
      "Requirement already satisfied: fonttools>=4.22.0 in /Users/nico/miniconda3/envs/RUSLE/lib/python3.12/site-packages (from matplotlib->geemap) (4.47.0)\n",
      "Requirement already satisfied: kiwisolver>=1.3.1 in /Users/nico/miniconda3/envs/RUSLE/lib/python3.12/site-packages (from matplotlib->geemap) (1.4.5)\n",
      "Requirement already satisfied: packaging>=20.0 in /Users/nico/miniconda3/envs/RUSLE/lib/python3.12/site-packages (from matplotlib->geemap) (23.2)\n",
      "Requirement already satisfied: pillow>=8 in /Users/nico/miniconda3/envs/RUSLE/lib/python3.12/site-packages (from matplotlib->geemap) (10.2.0)\n",
      "Requirement already satisfied: pyparsing>=2.3.1 in /Users/nico/miniconda3/envs/RUSLE/lib/python3.12/site-packages (from matplotlib->geemap) (3.1.1)\n",
      "Requirement already satisfied: tenacity>=6.2.0 in /Users/nico/miniconda3/envs/RUSLE/lib/python3.12/site-packages (from plotly->geemap) (8.2.3)\n",
      "Requirement already satisfied: google-api-core!=2.0.*,!=2.1.*,!=2.2.*,!=2.3.0,<3.0.0.dev0,>=1.31.5 in /Users/nico/miniconda3/envs/RUSLE/lib/python3.12/site-packages (from google-api-python-client>=1.12.1->earthengine-api>=0.1.347->geemap) (2.15.0)\n",
      "Requirement already satisfied: uritemplate<5,>=3.0.1 in /Users/nico/miniconda3/envs/RUSLE/lib/python3.12/site-packages (from google-api-python-client>=1.12.1->earthengine-api>=0.1.347->geemap) (4.1.1)\n",
      "Requirement already satisfied: cachetools<6.0,>=2.0.0 in /Users/nico/miniconda3/envs/RUSLE/lib/python3.12/site-packages (from google-auth>=1.4.1->earthengine-api>=0.1.347->geemap) (5.3.2)\n",
      "Requirement already satisfied: pyasn1-modules>=0.2.1 in /Users/nico/miniconda3/envs/RUSLE/lib/python3.12/site-packages (from google-auth>=1.4.1->earthengine-api>=0.1.347->geemap) (0.3.0)\n",
      "Requirement already satisfied: rsa<5,>=3.1.4 in /Users/nico/miniconda3/envs/RUSLE/lib/python3.12/site-packages (from google-auth>=1.4.1->earthengine-api>=0.1.347->geemap) (4.9)\n",
      "Requirement already satisfied: comm>=0.1.3 in /Users/nico/miniconda3/envs/RUSLE/lib/python3.12/site-packages (from ipywidgets->ipyfilechooser>=0.6.0->geemap) (0.2.1)\n",
      "Requirement already satisfied: ipython>=6.1.0 in /Users/nico/miniconda3/envs/RUSLE/lib/python3.12/site-packages (from ipywidgets->ipyfilechooser>=0.6.0->geemap) (8.19.0)\n",
      "Requirement already satisfied: widgetsnbextension~=4.0.9 in /Users/nico/miniconda3/envs/RUSLE/lib/python3.12/site-packages (from ipywidgets->ipyfilechooser>=0.6.0->geemap) (4.0.9)\n",
      "Requirement already satisfied: jupyterlab-widgets~=3.0.9 in /Users/nico/miniconda3/envs/RUSLE/lib/python3.12/site-packages (from ipywidgets->ipyfilechooser>=0.6.0->geemap) (3.0.9)\n",
      "Requirement already satisfied: MarkupSafe>=2.0 in /Users/nico/miniconda3/envs/RUSLE/lib/python3.12/site-packages (from jinja2>=2.9->folium>=0.13.0->geemap) (2.1.3)\n",
      "Requirement already satisfied: google-cloud-core<3.0dev,>=2.3.0 in /Users/nico/miniconda3/envs/RUSLE/lib/python3.12/site-packages (from google-cloud-storage->earthengine-api>=0.1.347->geemap) (2.4.1)\n",
      "Requirement already satisfied: google-resumable-media>=2.6.0 in /Users/nico/miniconda3/envs/RUSLE/lib/python3.12/site-packages (from google-cloud-storage->earthengine-api>=0.1.347->geemap) (2.7.0)\n",
      "Requirement already satisfied: google-crc32c<2.0dev,>=1.0 in /Users/nico/miniconda3/envs/RUSLE/lib/python3.12/site-packages (from google-cloud-storage->earthengine-api>=0.1.347->geemap) (1.5.0)\n",
      "Requirement already satisfied: charset-normalizer<4,>=2 in /Users/nico/miniconda3/envs/RUSLE/lib/python3.12/site-packages (from requests->earthengine-api>=0.1.347->geemap) (3.3.2)\n",
      "Requirement already satisfied: idna<4,>=2.5 in /Users/nico/miniconda3/envs/RUSLE/lib/python3.12/site-packages (from requests->earthengine-api>=0.1.347->geemap) (3.6)\n",
      "Requirement already satisfied: urllib3<3,>=1.21.1 in /Users/nico/miniconda3/envs/RUSLE/lib/python3.12/site-packages (from requests->earthengine-api>=0.1.347->geemap) (2.1.0)\n",
      "Requirement already satisfied: certifi>=2017.4.17 in /Users/nico/miniconda3/envs/RUSLE/lib/python3.12/site-packages (from requests->earthengine-api>=0.1.347->geemap) (2023.11.17)\n",
      "Requirement already satisfied: decorator in /Users/nico/miniconda3/envs/RUSLE/lib/python3.12/site-packages (from ratelim->geocoder->geemap) (5.1.1)\n",
      "Requirement already satisfied: googleapis-common-protos<2.0.dev0,>=1.56.2 in /Users/nico/miniconda3/envs/RUSLE/lib/python3.12/site-packages (from google-api-core!=2.0.*,!=2.1.*,!=2.2.*,!=2.3.0,<3.0.0.dev0,>=1.31.5->google-api-python-client>=1.12.1->earthengine-api>=0.1.347->geemap) (1.62.0)\n",
      "Requirement already satisfied: protobuf!=3.20.0,!=3.20.1,!=4.21.0,!=4.21.1,!=4.21.2,!=4.21.3,!=4.21.4,!=4.21.5,<5.0.0.dev0,>=3.19.5 in /Users/nico/miniconda3/envs/RUSLE/lib/python3.12/site-packages (from google-api-core!=2.0.*,!=2.1.*,!=2.2.*,!=2.3.0,<3.0.0.dev0,>=1.31.5->google-api-python-client>=1.12.1->earthengine-api>=0.1.347->geemap) (4.25.1)\n",
      "Requirement already satisfied: jedi>=0.16 in /Users/nico/miniconda3/envs/RUSLE/lib/python3.12/site-packages (from ipython>=6.1.0->ipywidgets->ipyfilechooser>=0.6.0->geemap) (0.19.1)\n",
      "Requirement already satisfied: matplotlib-inline in /Users/nico/miniconda3/envs/RUSLE/lib/python3.12/site-packages (from ipython>=6.1.0->ipywidgets->ipyfilechooser>=0.6.0->geemap) (0.1.6)\n",
      "Requirement already satisfied: prompt-toolkit<3.1.0,>=3.0.41 in /Users/nico/miniconda3/envs/RUSLE/lib/python3.12/site-packages (from ipython>=6.1.0->ipywidgets->ipyfilechooser>=0.6.0->geemap) (3.0.42)\n",
      "Requirement already satisfied: pygments>=2.4.0 in /Users/nico/miniconda3/envs/RUSLE/lib/python3.12/site-packages (from ipython>=6.1.0->ipywidgets->ipyfilechooser>=0.6.0->geemap) (2.17.2)\n",
      "Requirement already satisfied: stack-data in /Users/nico/miniconda3/envs/RUSLE/lib/python3.12/site-packages (from ipython>=6.1.0->ipywidgets->ipyfilechooser>=0.6.0->geemap) (0.6.2)\n",
      "Requirement already satisfied: pexpect>4.3 in /Users/nico/miniconda3/envs/RUSLE/lib/python3.12/site-packages (from ipython>=6.1.0->ipywidgets->ipyfilechooser>=0.6.0->geemap) (4.8.0)\n",
      "Requirement already satisfied: pyasn1<0.6.0,>=0.4.6 in /Users/nico/miniconda3/envs/RUSLE/lib/python3.12/site-packages (from pyasn1-modules>=0.2.1->google-auth>=1.4.1->earthengine-api>=0.1.347->geemap) (0.5.1)\n",
      "Requirement already satisfied: parso<0.9.0,>=0.8.3 in /Users/nico/miniconda3/envs/RUSLE/lib/python3.12/site-packages (from jedi>=0.16->ipython>=6.1.0->ipywidgets->ipyfilechooser>=0.6.0->geemap) (0.8.3)\n",
      "Requirement already satisfied: ptyprocess>=0.5 in /Users/nico/miniconda3/envs/RUSLE/lib/python3.12/site-packages (from pexpect>4.3->ipython>=6.1.0->ipywidgets->ipyfilechooser>=0.6.0->geemap) (0.7.0)\n",
      "Requirement already satisfied: wcwidth in /Users/nico/miniconda3/envs/RUSLE/lib/python3.12/site-packages (from prompt-toolkit<3.1.0,>=3.0.41->ipython>=6.1.0->ipywidgets->ipyfilechooser>=0.6.0->geemap) (0.2.12)\n",
      "Requirement already satisfied: executing>=1.2.0 in /Users/nico/miniconda3/envs/RUSLE/lib/python3.12/site-packages (from stack-data->ipython>=6.1.0->ipywidgets->ipyfilechooser>=0.6.0->geemap) (2.0.1)\n",
      "Requirement already satisfied: asttokens>=2.1.0 in /Users/nico/miniconda3/envs/RUSLE/lib/python3.12/site-packages (from stack-data->ipython>=6.1.0->ipywidgets->ipyfilechooser>=0.6.0->geemap) (2.4.1)\n",
      "Requirement already satisfied: pure-eval in /Users/nico/miniconda3/envs/RUSLE/lib/python3.12/site-packages (from stack-data->ipython>=6.1.0->ipywidgets->ipyfilechooser>=0.6.0->geemap) (0.2.2)\n",
      "Requirement already satisfied: seaborn in /Users/nico/miniconda3/envs/RUSLE/lib/python3.12/site-packages (0.13.1)\n",
      "Requirement already satisfied: numpy!=1.24.0,>=1.20 in /Users/nico/miniconda3/envs/RUSLE/lib/python3.12/site-packages (from seaborn) (1.26.3)\n",
      "Requirement already satisfied: pandas>=1.2 in /Users/nico/miniconda3/envs/RUSLE/lib/python3.12/site-packages (from seaborn) (2.1.4)\n",
      "Requirement already satisfied: matplotlib!=3.6.1,>=3.4 in /Users/nico/miniconda3/envs/RUSLE/lib/python3.12/site-packages (from seaborn) (3.8.2)\n",
      "Requirement already satisfied: contourpy>=1.0.1 in /Users/nico/miniconda3/envs/RUSLE/lib/python3.12/site-packages (from matplotlib!=3.6.1,>=3.4->seaborn) (1.2.0)\n",
      "Requirement already satisfied: cycler>=0.10 in /Users/nico/miniconda3/envs/RUSLE/lib/python3.12/site-packages (from matplotlib!=3.6.1,>=3.4->seaborn) (0.12.1)\n",
      "Requirement already satisfied: fonttools>=4.22.0 in /Users/nico/miniconda3/envs/RUSLE/lib/python3.12/site-packages (from matplotlib!=3.6.1,>=3.4->seaborn) (4.47.0)\n",
      "Requirement already satisfied: kiwisolver>=1.3.1 in /Users/nico/miniconda3/envs/RUSLE/lib/python3.12/site-packages (from matplotlib!=3.6.1,>=3.4->seaborn) (1.4.5)\n",
      "Requirement already satisfied: packaging>=20.0 in /Users/nico/miniconda3/envs/RUSLE/lib/python3.12/site-packages (from matplotlib!=3.6.1,>=3.4->seaborn) (23.2)\n",
      "Requirement already satisfied: pillow>=8 in /Users/nico/miniconda3/envs/RUSLE/lib/python3.12/site-packages (from matplotlib!=3.6.1,>=3.4->seaborn) (10.2.0)\n",
      "Requirement already satisfied: pyparsing>=2.3.1 in /Users/nico/miniconda3/envs/RUSLE/lib/python3.12/site-packages (from matplotlib!=3.6.1,>=3.4->seaborn) (3.1.1)\n",
      "Requirement already satisfied: python-dateutil>=2.7 in /Users/nico/miniconda3/envs/RUSLE/lib/python3.12/site-packages (from matplotlib!=3.6.1,>=3.4->seaborn) (2.8.2)\n",
      "Requirement already satisfied: pytz>=2020.1 in /Users/nico/miniconda3/envs/RUSLE/lib/python3.12/site-packages (from pandas>=1.2->seaborn) (2023.3.post1)\n",
      "Requirement already satisfied: tzdata>=2022.1 in /Users/nico/miniconda3/envs/RUSLE/lib/python3.12/site-packages (from pandas>=1.2->seaborn) (2023.4)\n",
      "Requirement already satisfied: six>=1.5 in /Users/nico/miniconda3/envs/RUSLE/lib/python3.12/site-packages (from python-dateutil>=2.7->matplotlib!=3.6.1,>=3.4->seaborn) (1.16.0)\n",
      "Requirement already satisfied: geopandas in /Users/nico/miniconda3/envs/RUSLE/lib/python3.12/site-packages (0.14.2)\n",
      "Requirement already satisfied: fiona>=1.8.21 in /Users/nico/miniconda3/envs/RUSLE/lib/python3.12/site-packages (from geopandas) (1.9.5)\n",
      "Requirement already satisfied: packaging in /Users/nico/miniconda3/envs/RUSLE/lib/python3.12/site-packages (from geopandas) (23.2)\n",
      "Requirement already satisfied: pandas>=1.4.0 in /Users/nico/miniconda3/envs/RUSLE/lib/python3.12/site-packages (from geopandas) (2.1.4)\n",
      "Requirement already satisfied: pyproj>=3.3.0 in /Users/nico/miniconda3/envs/RUSLE/lib/python3.12/site-packages (from geopandas) (3.6.1)\n",
      "Requirement already satisfied: shapely>=1.8.0 in /Users/nico/miniconda3/envs/RUSLE/lib/python3.12/site-packages (from geopandas) (2.0.2)\n",
      "Requirement already satisfied: attrs>=19.2.0 in /Users/nico/miniconda3/envs/RUSLE/lib/python3.12/site-packages (from fiona>=1.8.21->geopandas) (23.2.0)\n",
      "Requirement already satisfied: certifi in /Users/nico/miniconda3/envs/RUSLE/lib/python3.12/site-packages (from fiona>=1.8.21->geopandas) (2023.11.17)\n",
      "Requirement already satisfied: click~=8.0 in /Users/nico/miniconda3/envs/RUSLE/lib/python3.12/site-packages (from fiona>=1.8.21->geopandas) (8.1.7)\n",
      "Requirement already satisfied: click-plugins>=1.0 in /Users/nico/miniconda3/envs/RUSLE/lib/python3.12/site-packages (from fiona>=1.8.21->geopandas) (1.1.1)\n",
      "Requirement already satisfied: cligj>=0.5 in /Users/nico/miniconda3/envs/RUSLE/lib/python3.12/site-packages (from fiona>=1.8.21->geopandas) (0.7.2)\n",
      "Requirement already satisfied: six in /Users/nico/miniconda3/envs/RUSLE/lib/python3.12/site-packages (from fiona>=1.8.21->geopandas) (1.16.0)\n",
      "Requirement already satisfied: setuptools in /Users/nico/miniconda3/envs/RUSLE/lib/python3.12/site-packages (from fiona>=1.8.21->geopandas) (69.0.3)\n",
      "Requirement already satisfied: numpy<2,>=1.26.0 in /Users/nico/miniconda3/envs/RUSLE/lib/python3.12/site-packages (from pandas>=1.4.0->geopandas) (1.26.3)\n",
      "Requirement already satisfied: python-dateutil>=2.8.2 in /Users/nico/miniconda3/envs/RUSLE/lib/python3.12/site-packages (from pandas>=1.4.0->geopandas) (2.8.2)\n",
      "Requirement already satisfied: pytz>=2020.1 in /Users/nico/miniconda3/envs/RUSLE/lib/python3.12/site-packages (from pandas>=1.4.0->geopandas) (2023.3.post1)\n",
      "Requirement already satisfied: tzdata>=2022.1 in /Users/nico/miniconda3/envs/RUSLE/lib/python3.12/site-packages (from pandas>=1.4.0->geopandas) (2023.4)\n"
     ]
    }
   ],
   "source": [
    "!pip install --upgrade pip\n",
    "!pip install earthengine-API\n",
    "!pip install --upgrade oauth2client\n",
    "!pip install gcloud\n",
    "!pip install geemap\n",
    "!pip install seaborn\n",
    "!pip install geopandas"
   ]
  },
  {
   "cell_type": "markdown",
   "metadata": {},
   "source": [
    "## Spatial dataset"
   ]
  },
  {
   "cell_type": "markdown",
   "metadata": {},
   "source": [
    "### Setup"
   ]
  },
  {
   "cell_type": "code",
   "execution_count": 70,
   "metadata": {},
   "outputs": [
    {
     "data": {
      "text/html": [
       "\n",
       "            <style>\n",
       "                .geemap-dark {\n",
       "                    --jp-widgets-color: white;\n",
       "                    --jp-widgets-label-color: white;\n",
       "                    --jp-ui-font-color1: white;\n",
       "                    --jp-layout-color2: #454545;\n",
       "                    background-color: #383838;\n",
       "                }\n",
       "                    \n",
       "                .geemap-dark .jupyter-button {\n",
       "                    --jp-layout-color3: #383838;\n",
       "                }\n",
       "                \n",
       "                .geemap-colab {\n",
       "                    background-color: var(--colab-primary-surface-color, white);\n",
       "                }\n",
       "                    \n",
       "                .geemap-colab .jupyter-button {\n",
       "                    --jp-layout-color3: var(--colab-primary-surface-color, white);\n",
       "                }\n",
       "            </style>\n",
       "            "
      ],
      "text/plain": [
       "<IPython.core.display.HTML object>"
      ]
     },
     "metadata": {},
     "output_type": "display_data"
    }
   ],
   "source": [
    "# load libraries and API\n",
    "\n",
    "import pandas as pd\n",
    "import numpy as np\n",
    "import matplotlib.pyplot as plt\n",
    "import ee\n",
    "import geemap\n",
    "import geopandas as gpd\n",
    "import numpy as np\n",
    "import math\n",
    "import os\n"
   ]
  },
  {
   "cell_type": "code",
   "execution_count": 71,
   "metadata": {},
   "outputs": [
    {
     "data": {
      "text/html": [
       "\n",
       "            <style>\n",
       "                .geemap-dark {\n",
       "                    --jp-widgets-color: white;\n",
       "                    --jp-widgets-label-color: white;\n",
       "                    --jp-ui-font-color1: white;\n",
       "                    --jp-layout-color2: #454545;\n",
       "                    background-color: #383838;\n",
       "                }\n",
       "                    \n",
       "                .geemap-dark .jupyter-button {\n",
       "                    --jp-layout-color3: #383838;\n",
       "                }\n",
       "                \n",
       "                .geemap-colab {\n",
       "                    background-color: var(--colab-primary-surface-color, white);\n",
       "                }\n",
       "                    \n",
       "                .geemap-colab .jupyter-button {\n",
       "                    --jp-layout-color3: var(--colab-primary-surface-color, white);\n",
       "                }\n",
       "            </style>\n",
       "            "
      ],
      "text/plain": [
       "<IPython.core.display.HTML object>"
      ]
     },
     "metadata": {},
     "output_type": "display_data"
    }
   ],
   "source": [
    "# gee setup\n",
    "ee.Authenticate()\n",
    "ee.Initialize()"
   ]
  },
  {
   "cell_type": "markdown",
   "metadata": {},
   "source": [
    "### Cargar area de influencia"
   ]
  },
  {
   "cell_type": "code",
   "execution_count": 72,
   "metadata": {},
   "outputs": [
    {
     "data": {
      "text/html": [
       "\n",
       "            <style>\n",
       "                .geemap-dark {\n",
       "                    --jp-widgets-color: white;\n",
       "                    --jp-widgets-label-color: white;\n",
       "                    --jp-ui-font-color1: white;\n",
       "                    --jp-layout-color2: #454545;\n",
       "                    background-color: #383838;\n",
       "                }\n",
       "                    \n",
       "                .geemap-dark .jupyter-button {\n",
       "                    --jp-layout-color3: #383838;\n",
       "                }\n",
       "                \n",
       "                .geemap-colab {\n",
       "                    background-color: var(--colab-primary-surface-color, white);\n",
       "                }\n",
       "                    \n",
       "                .geemap-colab .jupyter-button {\n",
       "                    --jp-layout-color3: var(--colab-primary-surface-color, white);\n",
       "                }\n",
       "            </style>\n",
       "            "
      ],
      "text/plain": [
       "<IPython.core.display.HTML object>"
      ]
     },
     "metadata": {},
     "output_type": "display_data"
    }
   ],
   "source": [
    "#### Configuración\n",
    "date_from = '2022-11-14'\n",
    "date_to = '2023-11-14'"
   ]
  },
  {
   "cell_type": "code",
   "execution_count": 92,
   "metadata": {},
   "outputs": [
    {
     "data": {
      "text/html": [
       "\n",
       "            <style>\n",
       "                .geemap-dark {\n",
       "                    --jp-widgets-color: white;\n",
       "                    --jp-widgets-label-color: white;\n",
       "                    --jp-ui-font-color1: white;\n",
       "                    --jp-layout-color2: #454545;\n",
       "                    background-color: #383838;\n",
       "                }\n",
       "                    \n",
       "                .geemap-dark .jupyter-button {\n",
       "                    --jp-layout-color3: #383838;\n",
       "                }\n",
       "                \n",
       "                .geemap-colab {\n",
       "                    background-color: var(--colab-primary-surface-color, white);\n",
       "                }\n",
       "                    \n",
       "                .geemap-colab .jupyter-button {\n",
       "                    --jp-layout-color3: var(--colab-primary-surface-color, white);\n",
       "                }\n",
       "            </style>\n",
       "            "
      ],
      "text/plain": [
       "<IPython.core.display.HTML object>"
      ]
     },
     "metadata": {},
     "output_type": "display_data"
    }
   ],
   "source": [
    "## cargar area de interes como geopandas dataframe y convertir a ee\n",
    "# chile = gpd.read_file('/Users/nico/Desktop/Projects/RUSLE/02_input/Regiones/Regional.shp')\n",
    "# region_metropolitana = chile[chile['codregion'] == 13]\n",
    "\n",
    "# aoi = geemap.geopandas_to_ee(region_metropolitana)\n",
    "aoi = (ee.FeatureCollection(\"FAO/GAUL/2015/level0\")\n",
    "                  .filter(ee.Filter.eq('ADM0_NAME', 'Chile')))"
   ]
  },
  {
   "cell_type": "code",
   "execution_count": 93,
   "metadata": {},
   "outputs": [
    {
     "data": {
      "text/html": [
       "\n",
       "            <style>\n",
       "                .geemap-dark {\n",
       "                    --jp-widgets-color: white;\n",
       "                    --jp-widgets-label-color: white;\n",
       "                    --jp-ui-font-color1: white;\n",
       "                    --jp-layout-color2: #454545;\n",
       "                    background-color: #383838;\n",
       "                }\n",
       "                    \n",
       "                .geemap-dark .jupyter-button {\n",
       "                    --jp-layout-color3: #383838;\n",
       "                }\n",
       "                \n",
       "                .geemap-colab {\n",
       "                    background-color: var(--colab-primary-surface-color, white);\n",
       "                }\n",
       "                    \n",
       "                .geemap-colab .jupyter-button {\n",
       "                    --jp-layout-color3: var(--colab-primary-surface-color, white);\n",
       "                }\n",
       "            </style>\n",
       "            "
      ],
      "text/plain": [
       "<IPython.core.display.HTML object>"
      ]
     },
     "metadata": {},
     "output_type": "display_data"
    },
    {
     "data": {
      "application/vnd.jupyter.widget-view+json": {
       "model_id": "3c598562ab0f4ef792195200610e6a6e",
       "version_major": 2,
       "version_minor": 0
      },
      "text/plain": [
       "Map(center=[0, 0], controls=(WidgetControl(options=['position', 'transparent_bg'], widget=SearchDataGUI(childr…"
      ]
     },
     "execution_count": 93,
     "metadata": {},
     "output_type": "execute_result"
    }
   ],
   "source": [
    "# Visualization\n",
    "Map = geemap.Map()\n",
    "Map.addLayer(aoi, {}, \"Area of Interest\")\n",
    "Map.centerObject(aoi)\n",
    "Map"
   ]
  },
  {
   "cell_type": "markdown",
   "metadata": {},
   "source": [
    "## Coleccion de datos"
   ]
  },
  {
   "cell_type": "markdown",
   "metadata": {},
   "source": [
    "### Precipitacion "
   ]
  },
  {
   "cell_type": "code",
   "execution_count": 94,
   "metadata": {},
   "outputs": [
    {
     "data": {
      "text/html": [
       "\n",
       "            <style>\n",
       "                .geemap-dark {\n",
       "                    --jp-widgets-color: white;\n",
       "                    --jp-widgets-label-color: white;\n",
       "                    --jp-ui-font-color1: white;\n",
       "                    --jp-layout-color2: #454545;\n",
       "                    background-color: #383838;\n",
       "                }\n",
       "                    \n",
       "                .geemap-dark .jupyter-button {\n",
       "                    --jp-layout-color3: #383838;\n",
       "                }\n",
       "                \n",
       "                .geemap-colab {\n",
       "                    background-color: var(--colab-primary-surface-color, white);\n",
       "                }\n",
       "                    \n",
       "                .geemap-colab .jupyter-button {\n",
       "                    --jp-layout-color3: var(--colab-primary-surface-color, white);\n",
       "                }\n",
       "            </style>\n",
       "            "
      ],
      "text/plain": [
       "<IPython.core.display.HTML object>"
      ]
     },
     "metadata": {},
     "output_type": "display_data"
    },
    {
     "data": {
      "application/vnd.jupyter.widget-view+json": {
       "model_id": "bacf3274a34142d4a07a57b46635c141",
       "version_major": 2,
       "version_minor": 0
      },
      "text/plain": [
       "Map(center=[0, 0], controls=(WidgetControl(options=['position', 'transparent_bg'], widget=SearchDataGUI(childr…"
      ]
     },
     "execution_count": 94,
     "metadata": {},
     "output_type": "execute_result"
    }
   ],
   "source": [
    "# Precipitacón CHIRPS - https://developers.google.com/earth-engine/datasets/catalog/UCSB-CHG_CHIRPS_DAILY\n",
    "pcp = ee.ImageCollection('UCSB-CHG/CHIRPS/PENTAD').filter(ee.Filter.bounds(aoi))\n",
    "\n",
    "Map = geemap.Map()\n",
    "\n",
    "precipitationVis = {\n",
    "  'min': 1.0,\n",
    "  'max': 20.0,\n",
    "  'palette': ['001137', '0aab1e', 'e7eb05', 'ff4a2d', 'e90000'],\n",
    "}\n",
    "\n",
    "Map.addLayer(pcp.first().clip(aoi), vis_params=precipitationVis, name='Precipitación CHIRPS')\n",
    "Map.add_colorbar(precipitationVis, label=\"Precipitación (mm)\", layer_name=\"Precipitación CHIRPS\")\n",
    "Map.centerObject(aoi)\n",
    "Map"
   ]
  },
  {
   "cell_type": "code",
   "execution_count": 95,
   "metadata": {},
   "outputs": [
    {
     "data": {
      "text/html": [
       "\n",
       "            <style>\n",
       "                .geemap-dark {\n",
       "                    --jp-widgets-color: white;\n",
       "                    --jp-widgets-label-color: white;\n",
       "                    --jp-ui-font-color1: white;\n",
       "                    --jp-layout-color2: #454545;\n",
       "                    background-color: #383838;\n",
       "                }\n",
       "                    \n",
       "                .geemap-dark .jupyter-button {\n",
       "                    --jp-layout-color3: #383838;\n",
       "                }\n",
       "                \n",
       "                .geemap-colab {\n",
       "                    background-color: var(--colab-primary-surface-color, white);\n",
       "                }\n",
       "                    \n",
       "                .geemap-colab .jupyter-button {\n",
       "                    --jp-layout-color3: var(--colab-primary-surface-color, white);\n",
       "                }\n",
       "            </style>\n",
       "            "
      ],
      "text/plain": [
       "<IPython.core.display.HTML object>"
      ]
     },
     "metadata": {},
     "output_type": "display_data"
    },
    {
     "data": {
      "application/vnd.jupyter.widget-view+json": {
       "model_id": "5964e5af2a3d4fce993e0daee9c0b376",
       "version_major": 2,
       "version_minor": 0
      },
      "text/plain": [
       "Map(center=[0, 0], controls=(WidgetControl(options=['position', 'transparent_bg'], widget=SearchDataGUI(childr…"
      ]
     },
     "execution_count": 95,
     "metadata": {},
     "output_type": "execute_result"
    }
   ],
   "source": [
    "# Precipitacón CHIRPS - https://developers.google.com/earth-engine/datasets/catalog/UCSB-CHG_CHIRPS_DAILY\n",
    "pcp = ee.ImageCollection('UCSB-CHG/CHIRPS/PENTAD').filter(ee.Filter.bounds(aoi))\n",
    "\n",
    "Map = geemap.Map()\n",
    "\n",
    "precipitationVis = {\n",
    "  'min': 1.0,\n",
    "  'max': 20.0,\n",
    "  'palette': ['001137', '0aab1e', 'e7eb05', 'ff4a2d', 'e90000'],\n",
    "}\n",
    "\n",
    "Map.addLayer(pcp.first().clip(aoi), vis_params=precipitationVis, name='Precipitación CHIRPS')\n",
    "Map.add_colorbar(precipitationVis, label=\"Precipitación (mm)\", layer_name=\"Precipitación CHIRPS\")\n",
    "Map.centerObject(aoi)\n",
    "Map"
   ]
  },
  {
   "cell_type": "markdown",
   "metadata": {},
   "source": [
    "### Suelo\n",
    "\n",
    "Carbono, arena, limo y arcilla son provistos por el proyecto OpenLandMap a escala global basado en predicciones de machine learning de la compilacion de perfiles y muestras de suelo."
   ]
  },
  {
   "cell_type": "code",
   "execution_count": 41,
   "metadata": {},
   "outputs": [
    {
     "data": {
      "text/html": [
       "\n",
       "            <style>\n",
       "                .geemap-dark {\n",
       "                    --jp-widgets-color: white;\n",
       "                    --jp-widgets-label-color: white;\n",
       "                    --jp-ui-font-color1: white;\n",
       "                    --jp-layout-color2: #454545;\n",
       "                    background-color: #383838;\n",
       "                }\n",
       "                    \n",
       "                .geemap-dark .jupyter-button {\n",
       "                    --jp-layout-color3: #383838;\n",
       "                }\n",
       "                \n",
       "                .geemap-colab {\n",
       "                    background-color: var(--colab-primary-surface-color, white);\n",
       "                }\n",
       "                    \n",
       "                .geemap-colab .jupyter-button {\n",
       "                    --jp-layout-color3: var(--colab-primary-surface-color, white);\n",
       "                }\n",
       "            </style>\n",
       "            "
      ],
      "text/plain": [
       "<IPython.core.display.HTML object>"
      ]
     },
     "metadata": {},
     "output_type": "display_data"
    }
   ],
   "source": [
    "# Dado que la erosion es un proceso superficial, solo se usaran los datos superficiales (b0)\n",
    "c_org = ee.Image('OpenLandMap/SOL/SOL_ORGANIC-CARBON_USDA-6A1C_M/v02').select('b0').clip(aoi)\n",
    "clay = ee.Image(\"OpenLandMap/SOL/SOL_CLAY-WFRACTION_USDA-3A1A1A_M/v02\").select('b0').clip(aoi)\n",
    "sand = ee.Image(\"OpenLandMap/SOL/SOL_SAND-WFRACTION_USDA-3A1A1A_M/v02\").select('b0').clip(aoi)\n",
    "\n",
    "# Limo no se incluye como dataset, pero puede calcularse de la diferencia de particulas de arcilla y arena\n",
    "silt = ee.Image(100).subtract(clay).subtract(sand).rename('silt')"
   ]
  },
  {
   "cell_type": "code",
   "execution_count": 42,
   "metadata": {},
   "outputs": [
    {
     "data": {
      "text/html": [
       "\n",
       "            <style>\n",
       "                .geemap-dark {\n",
       "                    --jp-widgets-color: white;\n",
       "                    --jp-widgets-label-color: white;\n",
       "                    --jp-ui-font-color1: white;\n",
       "                    --jp-layout-color2: #454545;\n",
       "                    background-color: #383838;\n",
       "                }\n",
       "                    \n",
       "                .geemap-dark .jupyter-button {\n",
       "                    --jp-layout-color3: #383838;\n",
       "                }\n",
       "                \n",
       "                .geemap-colab {\n",
       "                    background-color: var(--colab-primary-surface-color, white);\n",
       "                }\n",
       "                    \n",
       "                .geemap-colab .jupyter-button {\n",
       "                    --jp-layout-color3: var(--colab-primary-surface-color, white);\n",
       "                }\n",
       "            </style>\n",
       "            "
      ],
      "text/plain": [
       "<IPython.core.display.HTML object>"
      ]
     },
     "metadata": {},
     "output_type": "display_data"
    },
    {
     "data": {
      "application/vnd.jupyter.widget-view+json": {
       "model_id": "af881ce3b17c41859c0d3bb8e5fd9c8f",
       "version_major": 2,
       "version_minor": 0
      },
      "text/plain": [
       "Map(center=[-33.604245616814566, -70.62684991135265], controls=(WidgetControl(options=['position', 'transparen…"
      ]
     },
     "execution_count": 42,
     "metadata": {},
     "output_type": "execute_result"
    }
   ],
   "source": [
    "# Visualization\n",
    "viz = {'min': 0, 'max': 100, 'palette': ['red', 'yellow', 'green']}\n",
    "\n",
    "Map = geemap.Map()\n",
    "Map.addLayer(c_org, viz, \"Carbono organico\")\n",
    "Map.addLayer(clay, viz, \"Arcilla\")\n",
    "Map.addLayer(silt, viz, \"Limo\")\n",
    "Map.addLayer(sand, viz, \"Arena\")\n",
    "Map.add_colorbar(viz, label=\"%\")\n",
    "Map.centerObject(aoi)\n",
    "Map"
   ]
  },
  {
   "cell_type": "markdown",
   "metadata": {},
   "source": [
    "### Modelo digital de elevacion"
   ]
  },
  {
   "cell_type": "code",
   "execution_count": 43,
   "metadata": {},
   "outputs": [
    {
     "data": {
      "text/html": [
       "\n",
       "            <style>\n",
       "                .geemap-dark {\n",
       "                    --jp-widgets-color: white;\n",
       "                    --jp-widgets-label-color: white;\n",
       "                    --jp-ui-font-color1: white;\n",
       "                    --jp-layout-color2: #454545;\n",
       "                    background-color: #383838;\n",
       "                }\n",
       "                    \n",
       "                .geemap-dark .jupyter-button {\n",
       "                    --jp-layout-color3: #383838;\n",
       "                }\n",
       "                \n",
       "                .geemap-colab {\n",
       "                    background-color: var(--colab-primary-surface-color, white);\n",
       "                }\n",
       "                    \n",
       "                .geemap-colab .jupyter-button {\n",
       "                    --jp-layout-color3: var(--colab-primary-surface-color, white);\n",
       "                }\n",
       "            </style>\n",
       "            "
      ],
      "text/plain": [
       "<IPython.core.display.HTML object>"
      ]
     },
     "metadata": {},
     "output_type": "display_data"
    },
    {
     "data": {
      "application/vnd.jupyter.widget-view+json": {
       "model_id": "0f30f36711d445d098f9bcde60b5f38e",
       "version_major": 2,
       "version_minor": 0
      },
      "text/plain": [
       "Map(center=[-33.604245616814566, -70.62684991135265], controls=(WidgetControl(options=['position', 'transparen…"
      ]
     },
     "execution_count": 43,
     "metadata": {},
     "output_type": "execute_result"
    }
   ],
   "source": [
    "# Modelo digital de elevación (DEM)\n",
    "SRTM_dem = ee.Image('USGS/SRTMGL1_003')\n",
    "\n",
    "DEMVis = {\n",
    "  'min': 0.0,\n",
    "  'max': 4000,\n",
    "  'palette': ['001137', '0aab1e', 'e7eb05', 'ff4a2d', 'e90000'],\n",
    "}\n",
    "\n",
    "colors = DEMVis['palette']\n",
    "vmin = DEMVis['min']\n",
    "vmax = DEMVis['max']\n",
    "\n",
    "Map = geemap.Map()\n",
    "Map.addLayer(SRTM_dem.clip(aoi), vis_params = DEMVis, name = \"SRTM\")\n",
    "Map.add_colorbar(DEMVis, label = \"Elevacion\", layer_name = \"SRTM\")\n",
    "Map.centerObject(aoi)\n",
    "Map"
   ]
  },
  {
   "cell_type": "markdown",
   "metadata": {},
   "source": [
    "### Landsat 8"
   ]
  },
  {
   "cell_type": "code",
   "execution_count": 44,
   "metadata": {},
   "outputs": [
    {
     "data": {
      "text/html": [
       "\n",
       "            <style>\n",
       "                .geemap-dark {\n",
       "                    --jp-widgets-color: white;\n",
       "                    --jp-widgets-label-color: white;\n",
       "                    --jp-ui-font-color1: white;\n",
       "                    --jp-layout-color2: #454545;\n",
       "                    background-color: #383838;\n",
       "                }\n",
       "                    \n",
       "                .geemap-dark .jupyter-button {\n",
       "                    --jp-layout-color3: #383838;\n",
       "                }\n",
       "                \n",
       "                .geemap-colab {\n",
       "                    background-color: var(--colab-primary-surface-color, white);\n",
       "                }\n",
       "                    \n",
       "                .geemap-colab .jupyter-button {\n",
       "                    --jp-layout-color3: var(--colab-primary-surface-color, white);\n",
       "                }\n",
       "            </style>\n",
       "            "
      ],
      "text/plain": [
       "<IPython.core.display.HTML object>"
      ]
     },
     "metadata": {},
     "output_type": "display_data"
    },
    {
     "data": {
      "application/vnd.jupyter.widget-view+json": {
       "model_id": "f29a536e45284500b9cc39bf460bebe1",
       "version_major": 2,
       "version_minor": 0
      },
      "text/plain": [
       "Map(center=[-33.604245616814566, -70.62684991135265], controls=(WidgetControl(options=['position', 'transparen…"
      ]
     },
     "execution_count": 44,
     "metadata": {},
     "output_type": "execute_result"
    }
   ],
   "source": [
    "# Landsat 8\n",
    "l8 = ee.ImageCollection(\"LANDSAT/LC08/C02/T1_L2\")\n",
    "\n",
    "# Applies scaling factors.\n",
    "def apply_scale_factors(image):\n",
    "  optical_bands = image.select('SR_B.').multiply(0.0000275).add(-0.2)\n",
    "  return image.addBands(optical_bands, None, True)\n",
    "\n",
    "l8 = l8.map(apply_scale_factors)\n",
    "\n",
    "Map = geemap.Map()\n",
    "\n",
    "vizParams = {\n",
    "    'bands': ['SR_B4', 'SR_B3', 'SR_B2'],\n",
    "    'min': 0.0,\n",
    "    'max': 0.3,\n",
    "}\n",
    "\n",
    "Map.addLayer(l8.median().clip(aoi), vis_params=vizParams)\n",
    "Map.centerObject(aoi)\n",
    "Map"
   ]
  },
  {
   "cell_type": "markdown",
   "metadata": {},
   "source": [
    "### Landcover"
   ]
  },
  {
   "cell_type": "code",
   "execution_count": 45,
   "metadata": {},
   "outputs": [
    {
     "data": {
      "text/html": [
       "\n",
       "            <style>\n",
       "                .geemap-dark {\n",
       "                    --jp-widgets-color: white;\n",
       "                    --jp-widgets-label-color: white;\n",
       "                    --jp-ui-font-color1: white;\n",
       "                    --jp-layout-color2: #454545;\n",
       "                    background-color: #383838;\n",
       "                }\n",
       "                    \n",
       "                .geemap-dark .jupyter-button {\n",
       "                    --jp-layout-color3: #383838;\n",
       "                }\n",
       "                \n",
       "                .geemap-colab {\n",
       "                    background-color: var(--colab-primary-surface-color, white);\n",
       "                }\n",
       "                    \n",
       "                .geemap-colab .jupyter-button {\n",
       "                    --jp-layout-color3: var(--colab-primary-surface-color, white);\n",
       "                }\n",
       "            </style>\n",
       "            "
      ],
      "text/plain": [
       "<IPython.core.display.HTML object>"
      ]
     },
     "metadata": {},
     "output_type": "display_data"
    },
    {
     "data": {
      "application/vnd.jupyter.widget-view+json": {
       "model_id": "852350896c11403abb37ad20468b0ff2",
       "version_major": 2,
       "version_minor": 0
      },
      "text/plain": [
       "Map(center=[-33.604245616814566, -70.62684991135265], controls=(WidgetControl(options=['position', 'transparen…"
      ]
     },
     "execution_count": 45,
     "metadata": {},
     "output_type": "execute_result"
    }
   ],
   "source": [
    "# MODIS\n",
    "modis = ee.ImageCollection(\"MODIS/006/MCD12Q1\").select('LC_Type1')\n",
    "\n",
    "Map = geemap.Map()\n",
    "\n",
    "igbpLandCoverVis = {\n",
    "  'min': 1.0,\n",
    "  'max': 17.0,\n",
    "  'palette': [\n",
    "    '05450a', '086a10', '54a708', '78d203', '009900', 'c6b044', 'dcd159',\n",
    "    'dade48', 'fbff13', 'b6ff05', '27ff87', 'c24f44', 'a5a5a5', 'ff6d4c',\n",
    "    '69fff8', 'f9ffa4', '1c0dff'\n",
    "  ],\n",
    "}\n",
    "\n",
    "Map.addLayer(modis.filter(ee.Filter.bounds(aoi)), vis_params=igbpLandCoverVis, name='MODIS Land Cover')\n",
    "Map.addLayer(aoi, {}, name='Region Metropolitana')\n",
    "Map.add_legend(builtin_legend='MODIS/051/MCD12Q1')\n",
    "Map.centerObject(aoi)\n",
    "Map"
   ]
  },
  {
   "cell_type": "markdown",
   "metadata": {},
   "source": [
    "## Factores RUSLE\n",
    "### Erodabilidad del suelo (K)\n",
    "\n",
    "La siguiente implementacion se realizo basada en [este tutorial](https://youtu.be/S6RR-pW6hSE?si=d0ZuYPAnsfWUrffH) que utiliza como referencia el metodo propuesto por [Williams (1995)](https://swat.tamu.edu/media/99192/swat2009-theory.pdf). Williams propone que:\n",
    "\n",
    "$$\n",
    "K_{USLE} = f_{csand}\\cdot f_{cl-si}\\cdot f_{orgc}\\cdot f_{hisand}\n",
    "$$\n",
    "\n",
    "Donde $f_{csand}$ es un factor que da factores de erodibilidad del suelo bajos para suelos con altos contenidos de arena gruesa y valores altos para suelos con poca arena, $f_{cl-si}$ es un factor que da factores de erodibilidad del suelo bajos para suelos con altas relaciones arcilla-limo, $f_{orgc}$ es un factor que reduce la erodibilidad del suelo para suelos con alto contenido de carbono orgánico, y $f_{hisand}$ es un factor que reduce la erodibilidad del suelo para suelos con contenidos de arena extremadamente altos. Los factores se calculan:\n",
    "\n",
    "$$\n",
    "\\begin{equation}\n",
    "\\begin{aligned}\n",
    "f_{csand} &= \\left(0.2+0.3\\cdot exp\\left[-0.256 \\cdot m_s \\cdot \\left(1- \\dfrac{m_{silt}}{100}\\right)\\right]\\right)\n",
    "\\end{aligned}\n",
    "\\end{equation}\n",
    "\\\\\n",
    "\\begin{equation}\n",
    "\\begin{aligned}\n",
    "f_{cl-si} &= \\left( \\dfrac{m_{silt}}{m_{c}+m_{silt}}\\right)^{0.3}\n",
    "\\end{aligned}\n",
    "\\end{equation}\n",
    "\\\\\n",
    "\\begin{equation}\n",
    "\\begin{aligned}\n",
    "f_{orgc} &= \\left(1- \\dfrac{0.25 \\cdot orgC}{orgC + exp[3.72-2.95 \\cdot orgC]}\\right)\n",
    "\\end{aligned}\n",
    "\\end{equation}\n",
    "\\\\\n",
    "\\begin{equation}\n",
    "\\begin{aligned}\n",
    "f_{hisand} &= \\left(1- \\dfrac{0.7 \\cdot \\left(1- \\dfrac{m_s}{100}\\right)}{\\left(1- \\dfrac{m_s}{100}\\right)+exp\\left[ -5.51+22.9 \\cdot \\left(1- \\dfrac{m_s}{100}\\right)\\right]}\\right)\n",
    "\\end{aligned}\n",
    "\\end{equation}\n",
    "$$\n",
    "\n",
    "donde $m_s$, es el contenido porcentual de arena (partículas de 0,05-2,00 mm de diámetro), $m_{silt}$ es el contenido porcentual de limo (partículas de 0,002-0,05 mm de diámetro), $m_c$ es el contenido porcentual de arcilla (partículas de < 0,002 mm de diámetro), y $orgC$ es el contenido porcentual de carbono orgánico de la capa (%).\n"
   ]
  },
  {
   "cell_type": "code",
   "execution_count": 46,
   "metadata": {},
   "outputs": [
    {
     "data": {
      "text/html": [
       "\n",
       "            <style>\n",
       "                .geemap-dark {\n",
       "                    --jp-widgets-color: white;\n",
       "                    --jp-widgets-label-color: white;\n",
       "                    --jp-ui-font-color1: white;\n",
       "                    --jp-layout-color2: #454545;\n",
       "                    background-color: #383838;\n",
       "                }\n",
       "                    \n",
       "                .geemap-dark .jupyter-button {\n",
       "                    --jp-layout-color3: #383838;\n",
       "                }\n",
       "                \n",
       "                .geemap-colab {\n",
       "                    background-color: var(--colab-primary-surface-color, white);\n",
       "                }\n",
       "                    \n",
       "                .geemap-colab .jupyter-button {\n",
       "                    --jp-layout-color3: var(--colab-primary-surface-color, white);\n",
       "                }\n",
       "            </style>\n",
       "            "
      ],
      "text/plain": [
       "<IPython.core.display.HTML object>"
      ]
     },
     "metadata": {},
     "output_type": "display_data"
    }
   ],
   "source": [
    "# calculando la erosividad \n",
    "f_csand = ee.Image(0.2).add(ee.Image(0.3).multiply(ee.Image(-0.256).multiply(silt.divide(100).subtract(1)).exp())).rename('f_csand')\n",
    "f_cl_si = (silt.divide(clay.add(silt)).pow(0.3).rename('f_cl_si'))\n",
    "f_orgc = (ee.Image(1).subtract(ee.Image(0.25).multiply(c_org).divide(c_org.add(ee.Image(3.72).subtract(ee.Image(2.95).multiply(c_org)).exp()))).rename('f_orgc'))\n",
    "f_hisand = (\n",
    "    ee.Image(1).subtract(\n",
    "        ee.Image(0.7).multiply(ee.Image(1).subtract(sand.divide(100))).divide(\n",
    "            ee.Image(1).subtract(sand.divide(100)).add(\n",
    "                ee.Image(-5.51).add(ee.Image(22.9).multiply(ee.Image(1).subtract(sand.divide(100)))).exp()\n",
    "            )\n",
    "        )\n",
    "    ).rename('f_hisand')\n",
    ")\n",
    "\n",
    "k_factor = f_csand.multiply(f_cl_si).multiply(f_orgc).multiply(f_hisand).rename('k_factor')"
   ]
  },
  {
   "cell_type": "code",
   "execution_count": 48,
   "metadata": {},
   "outputs": [
    {
     "data": {
      "text/html": [
       "\n",
       "            <style>\n",
       "                .geemap-dark {\n",
       "                    --jp-widgets-color: white;\n",
       "                    --jp-widgets-label-color: white;\n",
       "                    --jp-ui-font-color1: white;\n",
       "                    --jp-layout-color2: #454545;\n",
       "                    background-color: #383838;\n",
       "                }\n",
       "                    \n",
       "                .geemap-dark .jupyter-button {\n",
       "                    --jp-layout-color3: #383838;\n",
       "                }\n",
       "                \n",
       "                .geemap-colab {\n",
       "                    background-color: var(--colab-primary-surface-color, white);\n",
       "                }\n",
       "                    \n",
       "                .geemap-colab .jupyter-button {\n",
       "                    --jp-layout-color3: var(--colab-primary-surface-color, white);\n",
       "                }\n",
       "            </style>\n",
       "            "
      ],
      "text/plain": [
       "<IPython.core.display.HTML object>"
      ]
     },
     "metadata": {},
     "output_type": "display_data"
    },
    {
     "data": {
      "application/vnd.jupyter.widget-view+json": {
       "model_id": "58741319b6d94de49b940527e2f28268",
       "version_major": 2,
       "version_minor": 0
      },
      "text/plain": [
       "Map(center=[-33.604245616814566, -70.62684991135265], controls=(WidgetControl(options=['position', 'transparen…"
      ]
     },
     "execution_count": 48,
     "metadata": {},
     "output_type": "execute_result"
    }
   ],
   "source": [
    "# Visualization\n",
    "viz = {'min': 0.3, 'max': 0.5, 'palette': ['green', 'yellow', 'red']}\n",
    "\n",
    "Map = geemap.Map()\n",
    "Map.addLayer(k_factor, viz, \"Erodabilidad del suelo (K)\")\n",
    "Map.add_colorbar(viz, label=\"Erodabilidad del suelo (K)\", layer_name=\"Erodabilidad del suelo\")\n",
    "Map.centerObject(aoi)\n",
    "Map"
   ]
  },
  {
   "cell_type": "markdown",
   "metadata": {},
   "source": [
    "### Erosividad producida por la lluvia (R)\n",
    "\n",
    "La erosividad por parte de la lluvia es la estimación de la perdida de suelo a causa de la precipitación (Uddin et al. 2018).\n",
    "\n",
    "$R = 0.0483 * P^{1.610}$\n",
    "\n",
    "Donde P corresponde a la precipitación anual"
   ]
  },
  {
   "cell_type": "code",
   "execution_count": 49,
   "metadata": {},
   "outputs": [
    {
     "data": {
      "text/html": [
       "\n",
       "            <style>\n",
       "                .geemap-dark {\n",
       "                    --jp-widgets-color: white;\n",
       "                    --jp-widgets-label-color: white;\n",
       "                    --jp-ui-font-color1: white;\n",
       "                    --jp-layout-color2: #454545;\n",
       "                    background-color: #383838;\n",
       "                }\n",
       "                    \n",
       "                .geemap-dark .jupyter-button {\n",
       "                    --jp-layout-color3: #383838;\n",
       "                }\n",
       "                \n",
       "                .geemap-colab {\n",
       "                    background-color: var(--colab-primary-surface-color, white);\n",
       "                }\n",
       "                    \n",
       "                .geemap-colab .jupyter-button {\n",
       "                    --jp-layout-color3: var(--colab-primary-surface-color, white);\n",
       "                }\n",
       "            </style>\n",
       "            "
      ],
      "text/plain": [
       "<IPython.core.display.HTML object>"
      ]
     },
     "metadata": {},
     "output_type": "display_data"
    }
   ],
   "source": [
    "pcp_filtered = pcp.select('precipitation').filterDate(date_from, date_to).sum().clip(aoi)\n",
    "# debo calcular promedio anual de varios años, el codigo de esta forma solo calcula para entre las fechas date_from y date_to"
   ]
  },
  {
   "cell_type": "code",
   "execution_count": 50,
   "metadata": {},
   "outputs": [
    {
     "data": {
      "text/html": [
       "\n",
       "            <style>\n",
       "                .geemap-dark {\n",
       "                    --jp-widgets-color: white;\n",
       "                    --jp-widgets-label-color: white;\n",
       "                    --jp-ui-font-color1: white;\n",
       "                    --jp-layout-color2: #454545;\n",
       "                    background-color: #383838;\n",
       "                }\n",
       "                    \n",
       "                .geemap-dark .jupyter-button {\n",
       "                    --jp-layout-color3: #383838;\n",
       "                }\n",
       "                \n",
       "                .geemap-colab {\n",
       "                    background-color: var(--colab-primary-surface-color, white);\n",
       "                }\n",
       "                    \n",
       "                .geemap-colab .jupyter-button {\n",
       "                    --jp-layout-color3: var(--colab-primary-surface-color, white);\n",
       "                }\n",
       "            </style>\n",
       "            "
      ],
      "text/plain": [
       "<IPython.core.display.HTML object>"
      ]
     },
     "metadata": {},
     "output_type": "display_data"
    }
   ],
   "source": [
    "# R factor\n",
    "r_factor = ee.Image(pcp_filtered.pow(1.610).multiply(0.0483)).rename('R_factor')"
   ]
  },
  {
   "cell_type": "code",
   "execution_count": 52,
   "metadata": {},
   "outputs": [
    {
     "data": {
      "text/html": [
       "\n",
       "            <style>\n",
       "                .geemap-dark {\n",
       "                    --jp-widgets-color: white;\n",
       "                    --jp-widgets-label-color: white;\n",
       "                    --jp-ui-font-color1: white;\n",
       "                    --jp-layout-color2: #454545;\n",
       "                    background-color: #383838;\n",
       "                }\n",
       "                    \n",
       "                .geemap-dark .jupyter-button {\n",
       "                    --jp-layout-color3: #383838;\n",
       "                }\n",
       "                \n",
       "                .geemap-colab {\n",
       "                    background-color: var(--colab-primary-surface-color, white);\n",
       "                }\n",
       "                    \n",
       "                .geemap-colab .jupyter-button {\n",
       "                    --jp-layout-color3: var(--colab-primary-surface-color, white);\n",
       "                }\n",
       "            </style>\n",
       "            "
      ],
      "text/plain": [
       "<IPython.core.display.HTML object>"
      ]
     },
     "metadata": {},
     "output_type": "display_data"
    },
    {
     "data": {
      "application/vnd.jupyter.widget-view+json": {
       "model_id": "c68bced910084261aafff955396ad44f",
       "version_major": 2,
       "version_minor": 0
      },
      "text/plain": [
       "Map(center=[-33.604245616814566, -70.62684991135265], controls=(WidgetControl(options=['position', 'transparen…"
      ]
     },
     "execution_count": 52,
     "metadata": {},
     "output_type": "execute_result"
    }
   ],
   "source": [
    "# Visualization\n",
    "viz = {'min': 0, 'max': 5000, 'palette': ['green', 'yellow', 'red']}\n",
    "\n",
    "Map = geemap.Map()\n",
    "Map.addLayer(r_factor, viz, \"Erosividad de la lluvia (R)\")\n",
    "Map.add_colorbar(viz, label=\"Erosividad de la lluvia (R)\", layer_name=\"Erosividad de la lluvia (R)\")\n",
    "Map.centerObject(aoi)\n",
    "Map"
   ]
  },
  {
   "cell_type": "markdown",
   "metadata": {},
   "source": [
    "The values of the R factors seems to be to hight in comparison with the other factors. Is this correct?"
   ]
  },
  {
   "cell_type": "markdown",
   "metadata": {},
   "source": [
    "### Longitud de la pendiente (L)\n",
    "\n",
    "La longitud de la pendiente representa la distancia desde un pixel dado hasta hasta el punto de erosión potencial.\n",
    "\n",
    "$L = (\\frac{λ}{22.13})^m$\n",
    "\n",
    "Donde λ corresponde a la longitud de la pendiente y *m* toma un valor entre 0.2 y 0.5en función de la pendiente."
   ]
  },
  {
   "cell_type": "code",
   "execution_count": null,
   "metadata": {},
   "outputs": [
    {
     "data": {
      "text/html": [
       "\n",
       "            <style>\n",
       "                .geemap-dark {\n",
       "                    --jp-widgets-color: white;\n",
       "                    --jp-widgets-label-color: white;\n",
       "                    --jp-ui-font-color1: white;\n",
       "                    --jp-layout-color2: #454545;\n",
       "                    background-color: #383838;\n",
       "                }\n",
       "                    \n",
       "                .geemap-dark .jupyter-button {\n",
       "                    --jp-layout-color3: #383838;\n",
       "                }\n",
       "                \n",
       "                .geemap-colab {\n",
       "                    background-color: var(--colab-primary-surface-color, white);\n",
       "                }\n",
       "                    \n",
       "                .geemap-colab .jupyter-button {\n",
       "                    --jp-layout-color3: var(--colab-primary-surface-color, white);\n",
       "                }\n",
       "            </style>\n",
       "            "
      ],
      "text/plain": [
       "<IPython.core.display.HTML object>"
      ]
     },
     "metadata": {},
     "output_type": "display_data"
    }
   ],
   "source": [
    "elev = SRTM_dem.select('elevation')\n",
    "slope_deg = ee.Terrain.slope(elev).clip(aoi)\n",
    "slope_perc = slope_deg.divide(180).multiply(math.pi).tan().multiply(100) # slope from degrees to percentage\n",
    "\n",
    "m = ee.Image(1).where(slope_perc.gt(-1).And(slope_perc.lte(1)), 0.2).where(slope_perc.gt(1).And(slope_perc.lte(3)), 0.3).where(slope_perc.gt(3).And(slope_perc.lte(4.5)), 0.4).where(slope_perc.gt(4.5).And(slope_perc.lte(100)), 0.5)"
   ]
  },
  {
   "cell_type": "code",
   "execution_count": null,
   "metadata": {},
   "outputs": [
    {
     "data": {
      "text/html": [
       "\n",
       "            <style>\n",
       "                .geemap-dark {\n",
       "                    --jp-widgets-color: white;\n",
       "                    --jp-widgets-label-color: white;\n",
       "                    --jp-ui-font-color1: white;\n",
       "                    --jp-layout-color2: #454545;\n",
       "                    background-color: #383838;\n",
       "                }\n",
       "                    \n",
       "                .geemap-dark .jupyter-button {\n",
       "                    --jp-layout-color3: #383838;\n",
       "                }\n",
       "                \n",
       "                .geemap-colab {\n",
       "                    background-color: var(--colab-primary-surface-color, white);\n",
       "                }\n",
       "                    \n",
       "                .geemap-colab .jupyter-button {\n",
       "                    --jp-layout-color3: var(--colab-primary-surface-color, white);\n",
       "                }\n",
       "            </style>\n",
       "            "
      ],
      "text/plain": [
       "<IPython.core.display.HTML object>"
      ]
     },
     "metadata": {},
     "output_type": "display_data"
    }
   ],
   "source": [
    "l_factor = (slope_perc.multiply(0).add(30).divide(slope_perc.multiply(0).add(22.13))).pow(m).rename(\"L_factor\") # se multiplica por 0 y se suma 30 para crear un raster que pueda operar con la pendiente y 30 por el tamaño de pixel"
   ]
  },
  {
   "cell_type": "code",
   "execution_count": 54,
   "metadata": {},
   "outputs": [
    {
     "data": {
      "text/html": [
       "\n",
       "            <style>\n",
       "                .geemap-dark {\n",
       "                    --jp-widgets-color: white;\n",
       "                    --jp-widgets-label-color: white;\n",
       "                    --jp-ui-font-color1: white;\n",
       "                    --jp-layout-color2: #454545;\n",
       "                    background-color: #383838;\n",
       "                }\n",
       "                    \n",
       "                .geemap-dark .jupyter-button {\n",
       "                    --jp-layout-color3: #383838;\n",
       "                }\n",
       "                \n",
       "                .geemap-colab {\n",
       "                    background-color: var(--colab-primary-surface-color, white);\n",
       "                }\n",
       "                    \n",
       "                .geemap-colab .jupyter-button {\n",
       "                    --jp-layout-color3: var(--colab-primary-surface-color, white);\n",
       "                }\n",
       "            </style>\n",
       "            "
      ],
      "text/plain": [
       "<IPython.core.display.HTML object>"
      ]
     },
     "metadata": {},
     "output_type": "display_data"
    },
    {
     "data": {
      "application/vnd.jupyter.widget-view+json": {
       "model_id": "83c0883c64ac4c108d692bdf5d1ff99f",
       "version_major": 2,
       "version_minor": 0
      },
      "text/plain": [
       "Map(center=[-33.604245616814566, -70.62684991135265], controls=(WidgetControl(options=['position', 'transparen…"
      ]
     },
     "execution_count": 54,
     "metadata": {},
     "output_type": "execute_result"
    }
   ],
   "source": [
    "# Visualization\n",
    "viz = {'min': 1, 'max': 1.2, 'palette': ['green', 'yellow', 'red']}\n",
    "\n",
    "Map = geemap.Map()\n",
    "Map.addLayer(l_factor, viz, \"Longitud de la pendiente (L)\")\n",
    "Map.add_colorbar(viz, label=\"Longitud de la pendiente (L)\", layer_name=\"Longitud de la pendiente (L)\")\n",
    "Map.centerObject(aoi)\n",
    "Map"
   ]
  },
  {
   "cell_type": "markdown",
   "metadata": {},
   "source": [
    "### Inclinación de la pendiente (S)\n",
    "\n",
    "El factor de inclinación de la pendiente representa la velocidad a la que puede fluir el agua en una superficie determinada, interactuando con el ángulo del suelo y afectando a la magnitud de la erosión del suelo.\n",
    "\n",
    "$S = \\frac{(0.43 + 0.3 * S + 0.043 * S^2)}{6.613}$\n",
    "\n",
    "Donde *S* corresponde a la pendiente en porcentaje."
   ]
  },
  {
   "cell_type": "code",
   "execution_count": null,
   "metadata": {},
   "outputs": [
    {
     "data": {
      "text/html": [
       "\n",
       "            <style>\n",
       "                .geemap-dark {\n",
       "                    --jp-widgets-color: white;\n",
       "                    --jp-widgets-label-color: white;\n",
       "                    --jp-ui-font-color1: white;\n",
       "                    --jp-layout-color2: #454545;\n",
       "                    background-color: #383838;\n",
       "                }\n",
       "                    \n",
       "                .geemap-dark .jupyter-button {\n",
       "                    --jp-layout-color3: #383838;\n",
       "                }\n",
       "                \n",
       "                .geemap-colab {\n",
       "                    background-color: var(--colab-primary-surface-color, white);\n",
       "                }\n",
       "                    \n",
       "                .geemap-colab .jupyter-button {\n",
       "                    --jp-layout-color3: var(--colab-primary-surface-color, white);\n",
       "                }\n",
       "            </style>\n",
       "            "
      ],
      "text/plain": [
       "<IPython.core.display.HTML object>"
      ]
     },
     "metadata": {},
     "output_type": "display_data"
    }
   ],
   "source": [
    "\n",
    "# VALUES ARE TOO BIG\n",
    "s_factor = slope_perc.pow(2).multiply(0.043).add(slope_perc.multiply(0.30)).add(0.43).divide(6.613).rename('Factor_S')\n",
    "\n"
   ]
  },
  {
   "cell_type": "code",
   "execution_count": 55,
   "metadata": {},
   "outputs": [
    {
     "data": {
      "text/html": [
       "\n",
       "            <style>\n",
       "                .geemap-dark {\n",
       "                    --jp-widgets-color: white;\n",
       "                    --jp-widgets-label-color: white;\n",
       "                    --jp-ui-font-color1: white;\n",
       "                    --jp-layout-color2: #454545;\n",
       "                    background-color: #383838;\n",
       "                }\n",
       "                    \n",
       "                .geemap-dark .jupyter-button {\n",
       "                    --jp-layout-color3: #383838;\n",
       "                }\n",
       "                \n",
       "                .geemap-colab {\n",
       "                    background-color: var(--colab-primary-surface-color, white);\n",
       "                }\n",
       "                    \n",
       "                .geemap-colab .jupyter-button {\n",
       "                    --jp-layout-color3: var(--colab-primary-surface-color, white);\n",
       "                }\n",
       "            </style>\n",
       "            "
      ],
      "text/plain": [
       "<IPython.core.display.HTML object>"
      ]
     },
     "metadata": {},
     "output_type": "display_data"
    },
    {
     "data": {
      "application/vnd.jupyter.widget-view+json": {
       "model_id": "ef128283dd0a48f2b7f72e16deaf531a",
       "version_major": 2,
       "version_minor": 0
      },
      "text/plain": [
       "Map(center=[-33.604245616814566, -70.62684991135265], controls=(WidgetControl(options=['position', 'transparen…"
      ]
     },
     "execution_count": 55,
     "metadata": {},
     "output_type": "execute_result"
    }
   ],
   "source": [
    "# Visualization\n",
    "viz = {'min': 0, 'max': 45, 'palette': ['green', 'yellow', 'red']}\n",
    "\n",
    "Map = geemap.Map()\n",
    "Map.addLayer(s_factor, viz, \"Inclinacion de la pendiente (S)\")\n",
    "Map.add_colorbar(viz, label=\"Inclinacion de la pendiente (S)\", layer_name=\"Inclinacion de la pendiente (S)\")\n",
    "Map.centerObject(aoi)\n",
    "Map"
   ]
  },
  {
   "cell_type": "markdown",
   "metadata": {},
   "source": [
    "### Cobertura vegetal (C)\n",
    "\n",
    "De Jong (1994) desarrolló la siguiente relación entre los valores del factor C calibrados en campo con el índice de vegetación de diferencia normalizada (NDVI) basado en Landsat para producir una superficie continua del factor C.\n",
    "\n",
    "$C = 0.431 - 0.805 * NDVI$\n",
    "\n",
    "$NDVI = \\frac{NIR - Red}{NIR + Red}$\n",
    "\n",
    "Donde NIR corresponde a la reflectividad en el infrarojo cercano y Red corresponde a la reflectividad en el rojo."
   ]
  },
  {
   "cell_type": "code",
   "execution_count": null,
   "metadata": {},
   "outputs": [
    {
     "data": {
      "text/html": [
       "\n",
       "            <style>\n",
       "                .geemap-dark {\n",
       "                    --jp-widgets-color: white;\n",
       "                    --jp-widgets-label-color: white;\n",
       "                    --jp-ui-font-color1: white;\n",
       "                    --jp-layout-color2: #454545;\n",
       "                    background-color: #383838;\n",
       "                }\n",
       "                    \n",
       "                .geemap-dark .jupyter-button {\n",
       "                    --jp-layout-color3: #383838;\n",
       "                }\n",
       "                \n",
       "                .geemap-colab {\n",
       "                    background-color: var(--colab-primary-surface-color, white);\n",
       "                }\n",
       "                    \n",
       "                .geemap-colab .jupyter-button {\n",
       "                    --jp-layout-color3: var(--colab-primary-surface-color, white);\n",
       "                }\n",
       "            </style>\n",
       "            "
      ],
      "text/plain": [
       "<IPython.core.display.HTML object>"
      ]
     },
     "metadata": {},
     "output_type": "display_data"
    }
   ],
   "source": [
    "l8_filtered = l8.filterDate(date_from, date_to).median().clip(aoi)\n",
    "ndvi = l8_filtered.normalizedDifference(['SR_B5','SR_B4']).rename(\"NDVI\")"
   ]
  },
  {
   "cell_type": "code",
   "execution_count": null,
   "metadata": {},
   "outputs": [
    {
     "data": {
      "text/html": [
       "\n",
       "            <style>\n",
       "                .geemap-dark {\n",
       "                    --jp-widgets-color: white;\n",
       "                    --jp-widgets-label-color: white;\n",
       "                    --jp-ui-font-color1: white;\n",
       "                    --jp-layout-color2: #454545;\n",
       "                    background-color: #383838;\n",
       "                }\n",
       "                    \n",
       "                .geemap-dark .jupyter-button {\n",
       "                    --jp-layout-color3: #383838;\n",
       "                }\n",
       "                \n",
       "                .geemap-colab {\n",
       "                    background-color: var(--colab-primary-surface-color, white);\n",
       "                }\n",
       "                    \n",
       "                .geemap-colab .jupyter-button {\n",
       "                    --jp-layout-color3: var(--colab-primary-surface-color, white);\n",
       "                }\n",
       "            </style>\n",
       "            "
      ],
      "text/plain": [
       "<IPython.core.display.HTML object>"
      ]
     },
     "metadata": {},
     "output_type": "display_data"
    }
   ],
   "source": [
    "# De Jong (1994)\n",
    "c_factor = ndvi.multiply(0).add(0.431).subtract(ndvi.multiply(0.805)).rename('C')"
   ]
  },
  {
   "cell_type": "code",
   "execution_count": 57,
   "metadata": {},
   "outputs": [
    {
     "data": {
      "text/html": [
       "\n",
       "            <style>\n",
       "                .geemap-dark {\n",
       "                    --jp-widgets-color: white;\n",
       "                    --jp-widgets-label-color: white;\n",
       "                    --jp-ui-font-color1: white;\n",
       "                    --jp-layout-color2: #454545;\n",
       "                    background-color: #383838;\n",
       "                }\n",
       "                    \n",
       "                .geemap-dark .jupyter-button {\n",
       "                    --jp-layout-color3: #383838;\n",
       "                }\n",
       "                \n",
       "                .geemap-colab {\n",
       "                    background-color: var(--colab-primary-surface-color, white);\n",
       "                }\n",
       "                    \n",
       "                .geemap-colab .jupyter-button {\n",
       "                    --jp-layout-color3: var(--colab-primary-surface-color, white);\n",
       "                }\n",
       "            </style>\n",
       "            "
      ],
      "text/plain": [
       "<IPython.core.display.HTML object>"
      ]
     },
     "metadata": {},
     "output_type": "display_data"
    },
    {
     "data": {
      "application/vnd.jupyter.widget-view+json": {
       "model_id": "e280d2cbcb9246159ae85e7e554cdd9e",
       "version_major": 2,
       "version_minor": 0
      },
      "text/plain": [
       "Map(center=[-33.604245616814566, -70.62684991135265], controls=(WidgetControl(options=['position', 'transparen…"
      ]
     },
     "execution_count": 57,
     "metadata": {},
     "output_type": "execute_result"
    }
   ],
   "source": [
    "# Visualization\n",
    "viz = {'min': 0, 'max': 0.5, 'palette': ['green', 'yellow', 'red']}\n",
    "\n",
    "Map = geemap.Map()\n",
    "Map.addLayer(c_factor, viz, \"Cobertura vegetal (C)\")\n",
    "Map.add_colorbar(viz, label=\"Cobertura vegetal (C)\", layer_name=\"Cobertura vegetal (C)\")\n",
    "Map.centerObject(aoi)\n",
    "Map"
   ]
  },
  {
   "cell_type": "markdown",
   "metadata": {},
   "source": [
    "### Practicas control erosión (P)\n",
    "\n",
    "El factor de práctica de control de la erosión refleja el impacto de las prácticas de apoyo sobre la tasa media anual de erosión, y también describe la relación entre las pérdidas de suelo en un campo concreto en el que se determina la práctica de control de la erosión.\n",
    "\n",
    "En el presente ejercicio se consideró el producto de cobertura de suelos de MODIS (version mas actualizada del uso de suelo de este dataset es 2020) y se asignó un valor para cada cobertura basado en Chuenchum et al., 2019.\n"
   ]
  },
  {
   "cell_type": "code",
   "execution_count": null,
   "metadata": {},
   "outputs": [
    {
     "data": {
      "text/html": [
       "\n",
       "            <style>\n",
       "                .geemap-dark {\n",
       "                    --jp-widgets-color: white;\n",
       "                    --jp-widgets-label-color: white;\n",
       "                    --jp-ui-font-color1: white;\n",
       "                    --jp-layout-color2: #454545;\n",
       "                    background-color: #383838;\n",
       "                }\n",
       "                    \n",
       "                .geemap-dark .jupyter-button {\n",
       "                    --jp-layout-color3: #383838;\n",
       "                }\n",
       "                \n",
       "                .geemap-colab {\n",
       "                    background-color: var(--colab-primary-surface-color, white);\n",
       "                }\n",
       "                    \n",
       "                .geemap-colab .jupyter-button {\n",
       "                    --jp-layout-color3: var(--colab-primary-surface-color, white);\n",
       "                }\n",
       "            </style>\n",
       "            "
      ],
      "text/plain": [
       "<IPython.core.display.HTML object>"
      ]
     },
     "metadata": {},
     "output_type": "display_data"
    }
   ],
   "source": [
    "# MODIS\n",
    "modis = ee.ImageCollection(\"MODIS/006/MCD12Q1\").select('LC_Type1').sort('system:time_start', False).first()\n",
    "\n",
    "# P Factor de acuerdo a Chuenchum et al., 2019\n",
    "\n",
    "lulc = (modis\n",
    "        .clip(aoi)\n",
    "        .rename('lulc'))\n",
    "\n",
    "# create P Facor map using an expression\n",
    "p_factor = lulc.expression(\n",
    "            \"(b('lulc') == 1) ? 0.8\" +         # Evergreen Needleleaf Forests: dominated by evergreen conifer trees (canopy >2m). Tree cover >60%.\n",
    "              \": (b('lulc') == 2) ? 0.8 \" +    # Evergreen Broadleaf Forests: dominated by evergreen broadleaf and palmate trees (canopy >2m). Tree cover >60%.\n",
    "              \": (b('lulc') == 3) ? 0.8\" +     # Deciduous Needleleaf Forests: dominated by deciduous needleleaf (larch) trees (canopy >2m). Tree cover >60%.\n",
    "              \": (b('lulc') == 4) ? 0.8\" +     # Deciduous Broadleaf Forests: dominated by deciduous broadleaf trees (canopy >2m). Tree cover >60%.\n",
    "              \": (b('lulc') == 5) ? 0.8\" +     # Mixed Forests: dominated by neither deciduous nor evergreen (40-60% of each) tree type (canopy >2m). Tree cover >60%.\n",
    "              \": (b('lulc') == 6) ? 0.8\" +     # Closed Shrublands: dominated by woody perennials (1-2m height) >60% cover.\n",
    "              \": (b('lulc') == 7) ? 0.8\" +     # Open Shrublands: dominated by woody perennials (1-2m height) 10-60% cover.\n",
    "              \": (b('lulc') == 8) ? 0.8\" +     # Woody Savannas: tree cover 30-60% (canopy >2m).\n",
    "              \": (b('lulc') == 9) ? 0.8\" +     # Savannas: tree cover 10-30% (canopy >2m).\n",
    "              \": (b('lulc') == 10) ? 0.8\" +    # Grasslands: dominated by herbaceous annuals (<2m).\n",
    "              \": (b('lulc') == 11) ? 1.0\" +    # Permanent Wetlands: permanently inundated lands with 30-60% water cover and >10% vegetated cover.\n",
    "              \": (b('lulc') == 12) ? 0.5\" +    # Croplands: at least 60% of area is cultivated cropland.\n",
    "              \": (b('lulc') == 13) ? 1.0\" +    # Urban and Built-up Lands: at least 30% impervious surface area including building materials, asphalt and vehicles.\n",
    "              \": (b('lulc') == 14) ? 0.5\" +    # Cropland/Natural Vegetation Mosaics: mosaics of small-scale cultivation 40-60% with natural tree, shrub, or herbaceous vegetation.\n",
    "              \": (b('lulc') == 15) ? 1.0\" +    # Permanent Snow and Ice: at least 60% of area is covered by snow and ice for at least 10 months of the year.\n",
    "              \": (b('lulc') == 16) ? 1.0\" +    # Barren: at least 60% of area is non-vegetated barren (sand, rock, soil) areas with less than 10% vegetation.\n",
    "              \": (b('lulc') == 17) ? 1.0\" +    # Water Bodies: at least 60% of area is covered by permanent water bodies.\n",
    "            \": 9999\").rename('P').clip(aoi)     # NA"
   ]
  },
  {
   "cell_type": "code",
   "execution_count": 58,
   "metadata": {},
   "outputs": [
    {
     "data": {
      "text/html": [
       "\n",
       "            <style>\n",
       "                .geemap-dark {\n",
       "                    --jp-widgets-color: white;\n",
       "                    --jp-widgets-label-color: white;\n",
       "                    --jp-ui-font-color1: white;\n",
       "                    --jp-layout-color2: #454545;\n",
       "                    background-color: #383838;\n",
       "                }\n",
       "                    \n",
       "                .geemap-dark .jupyter-button {\n",
       "                    --jp-layout-color3: #383838;\n",
       "                }\n",
       "                \n",
       "                .geemap-colab {\n",
       "                    background-color: var(--colab-primary-surface-color, white);\n",
       "                }\n",
       "                    \n",
       "                .geemap-colab .jupyter-button {\n",
       "                    --jp-layout-color3: var(--colab-primary-surface-color, white);\n",
       "                }\n",
       "            </style>\n",
       "            "
      ],
      "text/plain": [
       "<IPython.core.display.HTML object>"
      ]
     },
     "metadata": {},
     "output_type": "display_data"
    },
    {
     "data": {
      "application/vnd.jupyter.widget-view+json": {
       "model_id": "57690bc8a10d4b43bca055a4671d41fd",
       "version_major": 2,
       "version_minor": 0
      },
      "text/plain": [
       "Map(center=[-33.604245616814566, -70.62684991135265], controls=(WidgetControl(options=['position', 'transparen…"
      ]
     },
     "execution_count": 58,
     "metadata": {},
     "output_type": "execute_result"
    }
   ],
   "source": [
    "# Create a default map\n",
    "Map = geemap.Map()\n",
    "\n",
    "# Define the visualization parameters.\n",
    "vizParams = {\n",
    "  'min': 0,\n",
    "  'max': 1,\n",
    "  'palette': ['001137', '0aab1e', 'e7eb05', 'ff4a2d', 'e90000']\n",
    "}\n",
    "\n",
    "# Add legend\n",
    "Map.add_colorbar(viz, label=\"Practicas control erosión (P)\", layer_name=\"Practicas control erosión (P)\")\n",
    "\n",
    "# Center the map and display the image.\n",
    "Map.centerObject(aoi, 8)\n",
    "Map.addLayer(p_factor, vizParams, 'Practicas control erosión (P)')\n",
    "\n",
    "# Display the map\n",
    "Map"
   ]
  },
  {
   "cell_type": "markdown",
   "metadata": {},
   "source": [
    "## Modelo RUSLE"
   ]
  },
  {
   "cell_type": "code",
   "execution_count": null,
   "metadata": {},
   "outputs": [
    {
     "data": {
      "text/html": [
       "\n",
       "            <style>\n",
       "                .geemap-dark {\n",
       "                    --jp-widgets-color: white;\n",
       "                    --jp-widgets-label-color: white;\n",
       "                    --jp-ui-font-color1: white;\n",
       "                    --jp-layout-color2: #454545;\n",
       "                    background-color: #383838;\n",
       "                }\n",
       "                    \n",
       "                .geemap-dark .jupyter-button {\n",
       "                    --jp-layout-color3: #383838;\n",
       "                }\n",
       "                \n",
       "                .geemap-colab {\n",
       "                    background-color: var(--colab-primary-surface-color, white);\n",
       "                }\n",
       "                    \n",
       "                .geemap-colab .jupyter-button {\n",
       "                    --jp-layout-color3: var(--colab-primary-surface-color, white);\n",
       "                }\n",
       "            </style>\n",
       "            "
      ],
      "text/plain": [
       "<IPython.core.display.HTML object>"
      ]
     },
     "metadata": {},
     "output_type": "display_data"
    }
   ],
   "source": [
    "soil_loss = ee.Image(r_factor.multiply(k_factor).multiply(l_factor).multiply(s_factor).multiply(c_factor).multiply(p_factor).multiply(0.09)).rename('Perdida de suelo') # Se multiplica por 0.09 para calcular la erosión en el pixel de 30x30 m"
   ]
  },
  {
   "cell_type": "code",
   "execution_count": 59,
   "metadata": {},
   "outputs": [
    {
     "data": {
      "text/html": [
       "\n",
       "            <style>\n",
       "                .geemap-dark {\n",
       "                    --jp-widgets-color: white;\n",
       "                    --jp-widgets-label-color: white;\n",
       "                    --jp-ui-font-color1: white;\n",
       "                    --jp-layout-color2: #454545;\n",
       "                    background-color: #383838;\n",
       "                }\n",
       "                    \n",
       "                .geemap-dark .jupyter-button {\n",
       "                    --jp-layout-color3: #383838;\n",
       "                }\n",
       "                \n",
       "                .geemap-colab {\n",
       "                    background-color: var(--colab-primary-surface-color, white);\n",
       "                }\n",
       "                    \n",
       "                .geemap-colab .jupyter-button {\n",
       "                    --jp-layout-color3: var(--colab-primary-surface-color, white);\n",
       "                }\n",
       "            </style>\n",
       "            "
      ],
      "text/plain": [
       "<IPython.core.display.HTML object>"
      ]
     },
     "metadata": {},
     "output_type": "display_data"
    },
    {
     "data": {
      "application/vnd.jupyter.widget-view+json": {
       "model_id": "de1c1938a09d411199f27a3ac7743967",
       "version_major": 2,
       "version_minor": 0
      },
      "text/plain": [
       "Map(center=[-33.604245616814566, -70.62684991135265], controls=(WidgetControl(options=['position', 'transparen…"
      ]
     },
     "execution_count": 59,
     "metadata": {},
     "output_type": "execute_result"
    }
   ],
   "source": [
    "# Create a default map\n",
    "Map = geemap.Map()\n",
    "\n",
    "# Load an image.\n",
    "image = soil_loss\n",
    "\n",
    "# Define the visualization parameters.\n",
    "vizParams = {\n",
    "  'bands': ['Perdida de suelo'],\n",
    "  'min': 0,\n",
    "  'max': 50,\n",
    "  'palette': ['001137', '0aab1e', 'e7eb05', 'ff4a2d', 'e90000']\n",
    "}\n",
    "\n",
    "# Add legend\n",
    "Map.add_colorbar(vizParams, label=\"Perdida de suelo (ton/ha/año)\", layer_name=\"Perdida de suelo\")\n",
    "\n",
    "# Center the map and display the image.\n",
    "Map.centerObject(aoi, 8)\n",
    "Map.addLayer(image, vizParams, 'Perdida de suelo')\n",
    "\n",
    "# Display the map\n",
    "Map"
   ]
  },
  {
   "cell_type": "code",
   "execution_count": 62,
   "metadata": {},
   "outputs": [
    {
     "data": {
      "text/html": [
       "\n",
       "            <style>\n",
       "                .geemap-dark {\n",
       "                    --jp-widgets-color: white;\n",
       "                    --jp-widgets-label-color: white;\n",
       "                    --jp-ui-font-color1: white;\n",
       "                    --jp-layout-color2: #454545;\n",
       "                    background-color: #383838;\n",
       "                }\n",
       "                    \n",
       "                .geemap-dark .jupyter-button {\n",
       "                    --jp-layout-color3: #383838;\n",
       "                }\n",
       "                \n",
       "                .geemap-colab {\n",
       "                    background-color: var(--colab-primary-surface-color, white);\n",
       "                }\n",
       "                    \n",
       "                .geemap-colab .jupyter-button {\n",
       "                    --jp-layout-color3: var(--colab-primary-surface-color, white);\n",
       "                }\n",
       "            </style>\n",
       "            "
      ],
      "text/plain": [
       "<IPython.core.display.HTML object>"
      ]
     },
     "metadata": {},
     "output_type": "display_data"
    },
    {
     "name": "stdout",
     "output_type": "stream",
     "text": [
      "Generating URL ...\n",
      "Downloading data from https://earthengine.googleapis.com/v1/projects/earthengine-legacy/thumbnails/a9aae142925c26c64647757ce927db42-70341e42078283f54c394bf182db60ab:getPixels\n",
      "Please wait ...\n",
      "Data downloaded to /Users/nico/Desktop/Projects/RUSLE/03_output/RUSLE_soil_loss.tif\n"
     ]
    }
   ],
   "source": [
    "# Exportar imagen localmente\n",
    "geemap.ee_export_image(soil_loss, '../03_output/RUSLE_soil_loss.tif', scale=90, crs=None, region=aoi.geometry(), file_per_band=False)\n"
   ]
  },
  {
   "cell_type": "markdown",
   "metadata": {},
   "source": [
    "## Referencias\n",
    "\n",
    "1. Uddin, K., Abdul Matin, M., & Maharjan, S. (2018). Assessment of land cover change and its impact on changes in soil erosion risk in Nepal. Sustainability, 10(12), 4715.\n",
    "\n",
    "2. Renard, K. G. (1997). Predicting soil erosion by water: a guide to conservation planning with the Revised Universal Soil Loss Equation (RUSLE). United States Government Printing.\n",
    "\n",
    "3. Funk, C., Peterson, P., Landsfeld, M., Pedreros, D., Verdin, J., Shukla, S., ... & Michaelsen, J. (2015). The climate hazards infrared precipitation with stations—a new environmental record for monitoring extremes. Scientific data, 2(1), 1-21.\n",
    "\n",
    "4. Boisier, J. P., Alvarez-Garretón, C., Cepeda, J., Osses, A., Vásquez, N., & Rondanelli, R. (2018, April). CR2MET: A high-resolution precipitation and temperature dataset for hydroclimatic research in Chile. In EGU General Assembly Conference Abstracts (p. 19739).\n",
    "\n",
    "5. Zambrano, F., Wardlow, B., Tadesse, T., Lillo-Saavedra, M., & Lagos, O. (2017). Evaluating satellite-derived long-term historical precipitation datasets for drought monitoring in Chile. Atmospheric Research, 186, 26-42.\n",
    "\n",
    "6. De Jong, S. M. (1994). Derivation of vegetative variables from a Landsat TM image for modelling soil erosion. Earth Surface Processes and Landforms, 19(2), 165-178.\n",
    "\n",
    "7. Chuenchum, P., Xu, M., & Tang, W. (2019). Estimation of soil erosion and sediment yield in the Lancang–Mekong river using the modified revised universal soil loss equation and GIS techniques. Water, 12(1), 135."
   ]
  }
 ],
 "metadata": {
  "kernelspec": {
   "display_name": "RUSLE",
   "language": "python",
   "name": "python3"
  },
  "language_info": {
   "codemirror_mode": {
    "name": "ipython",
    "version": 3
   },
   "file_extension": ".py",
   "mimetype": "text/x-python",
   "name": "python",
   "nbconvert_exporter": "python",
   "pygments_lexer": "ipython3",
   "version": "3.12.1"
  }
 },
 "nbformat": 4,
 "nbformat_minor": 4
}
